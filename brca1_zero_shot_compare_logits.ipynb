{
 "cells": [
  {
   "cell_type": "markdown",
   "id": "44a99548-bc0c-4c22-8b4b-7ce64bff23e2",
   "metadata": {},
   "source": [
    "# Compare output between BioNeMo2 And Evo2\n",
    "\n",
    "In BioNeMo2, I have selected two fasta sequences, run predictions on them, and save the `input_ids` and generated `tokens_logits`.\n",
    "\n",
    "Here, I apply Evo2's model on the same two fasta sequences, run predictions on them, and compare the `input_ids`, `logits`, and final predictions.\n",
    "\n",
    "I find that while the `input_ids` between the two sequences line up, our model and evo2's output different logit values (and thus different predictions)"
   ]
  },
  {
   "cell_type": "code",
   "execution_count": 1,
   "id": "f090aadb",
   "metadata": {},
   "outputs": [
    {
     "name": "stdout",
     "output_type": "stream",
     "text": [
      "Requirement already satisfied: matplotlib in /home/jwilber/anaconda3/envs/evo2/lib/python3.11/site-packages (3.10.0)\n",
      "Requirement already satisfied: pandas in /home/jwilber/anaconda3/envs/evo2/lib/python3.11/site-packages (2.2.3)\n",
      "Requirement already satisfied: seaborn in /home/jwilber/anaconda3/envs/evo2/lib/python3.11/site-packages (0.13.2)\n",
      "Requirement already satisfied: scikit-learn in /home/jwilber/anaconda3/envs/evo2/lib/python3.11/site-packages (1.6.1)\n",
      "Requirement already satisfied: openpyxl in /home/jwilber/anaconda3/envs/evo2/lib/python3.11/site-packages (3.1.5)\n",
      "Requirement already satisfied: contourpy>=1.0.1 in /home/jwilber/anaconda3/envs/evo2/lib/python3.11/site-packages (from matplotlib) (1.3.1)\n",
      "Requirement already satisfied: cycler>=0.10 in /home/jwilber/anaconda3/envs/evo2/lib/python3.11/site-packages (from matplotlib) (0.12.1)\n",
      "Requirement already satisfied: fonttools>=4.22.0 in /home/jwilber/anaconda3/envs/evo2/lib/python3.11/site-packages (from matplotlib) (4.56.0)\n",
      "Requirement already satisfied: kiwisolver>=1.3.1 in /home/jwilber/anaconda3/envs/evo2/lib/python3.11/site-packages (from matplotlib) (1.4.8)\n",
      "Requirement already satisfied: numpy>=1.23 in /home/jwilber/anaconda3/envs/evo2/lib/python3.11/site-packages (from matplotlib) (2.2.3)\n",
      "Requirement already satisfied: packaging>=20.0 in /home/jwilber/anaconda3/envs/evo2/lib/python3.11/site-packages (from matplotlib) (24.2)\n",
      "Requirement already satisfied: pillow>=8 in /home/jwilber/anaconda3/envs/evo2/lib/python3.11/site-packages (from matplotlib) (11.1.0)\n",
      "Requirement already satisfied: pyparsing>=2.3.1 in /home/jwilber/anaconda3/envs/evo2/lib/python3.11/site-packages (from matplotlib) (3.2.1)\n",
      "Requirement already satisfied: python-dateutil>=2.7 in /home/jwilber/anaconda3/envs/evo2/lib/python3.11/site-packages (from matplotlib) (2.9.0.post0)\n",
      "Requirement already satisfied: pytz>=2020.1 in /home/jwilber/anaconda3/envs/evo2/lib/python3.11/site-packages (from pandas) (2025.1)\n",
      "Requirement already satisfied: tzdata>=2022.7 in /home/jwilber/anaconda3/envs/evo2/lib/python3.11/site-packages (from pandas) (2025.1)\n",
      "Requirement already satisfied: scipy>=1.6.0 in /home/jwilber/anaconda3/envs/evo2/lib/python3.11/site-packages (from scikit-learn) (1.15.2)\n",
      "Requirement already satisfied: joblib>=1.2.0 in /home/jwilber/anaconda3/envs/evo2/lib/python3.11/site-packages (from scikit-learn) (1.4.2)\n",
      "Requirement already satisfied: threadpoolctl>=3.1.0 in /home/jwilber/anaconda3/envs/evo2/lib/python3.11/site-packages (from scikit-learn) (3.5.0)\n",
      "Requirement already satisfied: et-xmlfile in /home/jwilber/anaconda3/envs/evo2/lib/python3.11/site-packages (from openpyxl) (2.0.0)\n",
      "Requirement already satisfied: six>=1.5 in /home/jwilber/anaconda3/envs/evo2/lib/python3.11/site-packages (from python-dateutil>=2.7->matplotlib) (1.17.0)\n"
     ]
    }
   ],
   "source": [
    "# Install dependencies\n",
    "!pip install matplotlib pandas seaborn scikit-learn openpyxl\n",
    "\n",
    "import torch\n",
    "import glob\n",
    "import json\n",
    "from pathlib import Path\n",
    "from Bio import SeqIO\n",
    "import gzip\n",
    "import matplotlib.pyplot as plt\n",
    "import numpy as np\n",
    "import pandas as pd\n",
    "import os\n",
    "import seaborn as sns\n",
    "from sklearn.metrics import roc_auc_score\n",
    "\n",
    "# Set root path\n",
    "os.chdir('../..')"
   ]
  },
  {
   "cell_type": "code",
   "execution_count": 2,
   "id": "40c6fe57-1532-4d0d-bb2f-4971250091cb",
   "metadata": {},
   "outputs": [
    {
     "name": "stderr",
     "output_type": "stream",
     "text": [
      "/home/jwilber/anaconda3/envs/evo2/lib/python3.11/site-packages/tqdm/auto.py:21: TqdmWarning: IProgress not found. Please update jupyter and ipywidgets. See https://ipywidgets.readthedocs.io/en/stable/user_install.html\n",
      "  from .autonotebook import tqdm as notebook_tqdm\n",
      "100%|██████████████████████████████████████████████████████████████████████████████████████████████████████████████| 25/25 [00:00<00:00, 59.67it/s]\n"
     ]
    },
    {
     "name": "stdout",
     "output_type": "stream",
     "text": [
      "Extra keys in state_dict: {'blocks.10.mixer.dense._extra_state', 'blocks.3.mixer.dense._extra_state', 'blocks.24.mixer.dense._extra_state', 'unembed.weight', 'blocks.17.mixer.dense._extra_state'}\n"
     ]
    },
    {
     "name": "stderr",
     "output_type": "stream",
     "text": [
      "/home/jwilber/anaconda3/envs/evo2/lib/python3.11/site-packages/transformer_engine/pytorch/module/base.py:630: FutureWarning: You are using `torch.load` with `weights_only=False` (the current default value), which uses the default pickle module implicitly. It is possible to construct malicious pickle data which will execute arbitrary code during unpickling (See https://github.com/pytorch/pytorch/blob/main/SECURITY.md#untrusted-models for more details). In a future release, the default value for `weights_only` will be flipped to `True`. This limits the functions that could be executed during unpickling. Arbitrary objects will no longer be allowed to be loaded via this mode unless they are explicitly allowlisted by the user via `torch.serialization.add_safe_globals`. We recommend you start setting `weights_only=True` for any use case where you don't have full control of the loaded file. Please open an issue on GitHub for any issues related to this experimental feature.\n",
      "  state = torch.load(state, map_location=\"cuda\")\n",
      "/home/jwilber/Desktop/pr_dir/evo2/vortex/vortex/model/utils.py:153: FutureWarning: You are using `torch.load` with `weights_only=False` (the current default value), which uses the default pickle module implicitly. It is possible to construct malicious pickle data which will execute arbitrary code during unpickling (See https://github.com/pytorch/pytorch/blob/main/SECURITY.md#untrusted-models for more details). In a future release, the default value for `weights_only` will be flipped to `True`. This limits the functions that could be executed during unpickling. Arbitrary objects will no longer be allowed to be loaded via this mode unless they are explicitly allowlisted by the user via `torch.serialization.add_safe_globals`. We recommend you start setting `weights_only=True` for any use case where you don't have full control of the loaded file. Please open an issue on GitHub for any issues related to this experimental feature.\n",
      "  return torch_load(state, map_location=device)\n"
     ]
    }
   ],
   "source": [
    "from evo2.models import Evo2\n",
    "\n",
    "# Load model\n",
    "model = Evo2('evo2_1b_base')"
   ]
  },
  {
   "cell_type": "markdown",
   "id": "2389803a-3c04-49ae-a8f7-d2c4ebfd085a",
   "metadata": {},
   "source": [
    "## Load in sequence used in bionemo2, and the bionemo2 predictions/logits for it, and compare"
   ]
  },
  {
   "cell_type": "markdown",
   "id": "05d12e22-c310-439b-a0ee-04ac31019581",
   "metadata": {},
   "source": [
    "## 1. Load Selected Sequences"
   ]
  },
  {
   "cell_type": "code",
   "execution_count": 3,
   "id": "1418be3f-2e07-4e39-a559-b08ed0a8dbec",
   "metadata": {},
   "outputs": [
    {
     "data": {
      "text/plain": [
       "['TTAAACACTTTTCAAACCAGGCAATATTTTAGGCCTACTGTATATTTGCATTTTGAGCTTCCAATACGGATAAGTGACTGGAAAAAGCAGCTAGGTTTAGGTTGAAAAACAACAACCCACCGGGGAACACATTTTAGCAAATTCTTCTGAAAGTCAAAAATGTTATAGTCATAGGTAAAAAGTTACAAAGAACTACCAATTGTCAGAAATAGCTGCCAATATTGACTTAGAAGACAGCAGAAGGAATTTTAGTTCAAGAAACCTAAAACAGGCTGAAAACCTTACCTACCCTATAGCTACCACAAATAACACTGTTTCCAGTCATGATCATTCCTGATCACATATTAAGACATAACTGCAAATTGTGCTATACTGTACTATATTAAAAGGAAGTGAAATATGATCCCTATCCTAGAACTTTCCATACAAATGAATGTAAAACACCATAAAAATTAATCTTAAGGCCGGGCGCGGTGGCTCACGCCTGTAATCCCAGCACTTTGGGAGGCCGAGGTGGGCGGATCACGAGGTCAGGAAGTGGAGACCATCCTGGCTAACACGGTGAAACCCCGTCTCTACTAAAAATACAAAAAATTAGCCGGGCGTGGTGGTGGACGCCTGTAGTCCCAGCTACTTGGGGGGCCGAGGCAGGAGAATGGCGTGAACCCGGGAGGCGGAGCTTGCAGTGAGCCGAGATGGCGCCACTGCACTCCGGCCTGGGTGAAAGAGCGAGACTCCGTCTCAAAAACAAAACAAACAAAAATTAATCTTAAGCCAGGCGCAGTGGCTCACGCCAGCACTTTGGAAGGCCGAGGCGGGTGGATCACGAGATCAGGACTTCAAGACCAGCCTGACCAACGTGATGAAACCCTATCTCTACTAAAAATACAAAATTAGCCGGCCACGGTGGCGTGCGCCTATAATCCCAGCTACTCAGGAGGCTGAGGCAGGAGAAGCGCTTGAACTTGAACCTGGCAGGCGGAGGTTGCAGTGAGCCAAGATGGCGCCACTGCACTCCAGCCTGGGCGACAGAGCCAGACTCCAACCCCCCACCCCGAAAAAAAAAGGTCCAGGCCGGGCGCAGTGGCTCAGGACTGTAATCCCAGCACTTTGGAAGGCTGAGGCGGGTGGATCACAAGGTCAGGAGATCGAGACCATCTTGGCTAACATGGTGAAACCCCGTCTCTACTAAAAATACAAAAAATTAGCCGGGCATAGTGGTGGGCGCCTGTAGTCCCAGCTACTCGGGAGGCTGAGGCAGGAGAATGGCCTGAACCCGGGAGGCGGAGCTGGCAGTGAGCCAAGATCGTGCCACTGCACTCCAGCCTAGGCAGCAGAGCGAGACCGTGTCTCAAAAAAACAAAACAAAACAAAACAAAAAGTCTGGGAGCGGTGGCTCACGCCTGTAATCCCAGCACTTTCGGAGGCCAAGGCAGGAGGATCACCTGAGGTCAGGAGTTCGAGACCAACCTGACCAATATGGAGAAACCCTGTCTCTACTAAAAATACAAAATTAGCTGGTGTGATGGCACATGCCTGCAATCCCAGGTACTCCGGAGGCTGAGGCAGCAGAATTGCTTGAACCCGGGAGGTGGAGGTTGTAGTGAGCCGAGATTGTGCCACTGCACTCCAGCCTGGGCAACAAGAGCCAAAGTCTGTCTCAAAAAAAAAAAAAAAAAAAAAAAAAGAAATTAATCTTAACAGGAAACAGAAAAAAGCAATGAAAAGCTAGAAAACATAATAGTTGATTGAAAATAACAATTTAGCATTTTCATTCTTACATCTTTAATTTTTATGTATCTGAGTTTTTAATTGATGGTTTAATTTGCCAGAATGAGAAAGAACATCCTATTTTTATGACTCTCTCCCATGGAAATGAAACATAAATGTATCCAAATGCCACACTATTGAGGATTTTCCTGATCACTGATTGTCATGAGTAAGTTTTGTGCTTTTTCAAAAGCAGTTTTTTCCTACAATGTCATTTCCTGCTTCTCTGGCTCTGATTTTCAATAAATTGATAAATTGTGAATCCTGTTTTCCTCTTATTTTTGTTTAGCTATAATGTTGAAGGGCAAGGGAGAGGATGGTTATTTATAAATCTTGTATCGCTCTGAAAACACAACATACATTTTCCTTAATCTGATTAACTTGACTTCAAATATGAAAAACAACTTTCATAAAGCAGAAAAGAATTTACCCTTTTTTATTGTGGGTAAGAGGCAATGGTACAACTTTTCAACTTATTTTTTGAATGTTACTCACTACTAACCATCACCATATTTAAAAAAATTAAAGAACTAATTTAGTTTAGTTTATTATTTATTTGACAAATGTTTATTGAGTGGCAACTAGGTCCCAAGTACCGTTCTAACTACTGAACATACAGATGTATGTAAACAAAACAAAAATCCCATCCTGGAGTTTACATTCTGTGGGACTAGAGATAAAAAATGGATACATTACATAGAATGTCAGCTAGTAATCAGTGTTATGGAGAAGCAGCAGGAATAGAAGATAAAGTGTGTGCTGGGGGTGTGGTAATTTTAAATAGGGGTGTCTGGAAATGAAAAGGTGGTATTTCAATCAAGATTTTTAGACCATGGCTGGGTGCAATGGCTCAGGCCTGTAATCCCAGCACCTTGAGAGGCCAAGGGAGGGTAGATCACTTGAGGTCAGGAGTTTGAGACCAGCATGGCCAACATAGCAAAACCCTATCTCTACAACAGAAAAATACAAGAATGGCTGGACGCAGTGGCTTATGCCTGTAATCCTAGCACTTTGGGAGGCCCAGGCGGGTGGATCACAAGGTCAGGAGATCAAGACTATCCTGGCTAACACGGTGAAATCCCGCCTCTACTAAAAAAGAAAAAAAAATACAAAAAATTAGCCGGGCGTGGTAGTGGGTGCTTGTAGTCCCAGCTATTCAGGAGGCTCAGGCAGAAGAATGGCATGAACCCGGGAGGCAGAGTTTGCAGTGAGCTGAGATCGCGCCACTGCACTCCAGCCTGGGCAACAGAGCAAGACTCCATCTCAAAAAAAGAAAAAAAAATACAAAAATTAGCTGGGCATGGTGGTGCACACCTATCGTCCCTGCTACTCTGGAGGCTGAGGTGGGAGGATTGCTTGAGCCTGACGAGGTTGAGGCTGCAGTGAGCTGTGATAGCACCACTGCACTCCAGCCTCTCGACAGAGATCCTATATAAAAAAAAAACCTCTGCATTTCATTGTATGTAAATAAGTATGTAATTTCATTGTATGTACAGAGCCAGTTTCAAACAAAGGTTCTTCCAAATACCTATCCTCTCAACGACACCGATCATCCATGTTTTTTTTTTTTTTTTTTTTTTTTTGAGATGGAGTTTAGCTCTGTCGCTGGAGTTCAGTGGTGCCATATTGGCTCACAGCAACATCTGCCTCCTGGTTCAAGTGATTCTCCTGCCTCAGCCTCCTGAGTAGCTGGGATTACAGGCACATGCCACTACGCCCAGCTAATTTTTGTATTTTTAGTGGAGAGGGGGTTTCACCATGTTGGCCAGGATGGTCTCGATCTCCTGACCTCGTGATCCTACCACCTTGGCCTCCCAAAGTGCTGGGATTACAGGCATAAGCCACCGCCCTCGGCCTCATCCATGATTTTATTTTGCCATTTCAAGTGATGGAGCTTGTTTTAGAGCTGGAAGAAAAGCCAAAATGCCAGTTAATCTAAACTAGATTCCTGCCCCAGTGCAGAACCAATCAAGACAGAGTCCCTGTCTTTCCCGGACCACAGGATTTGTGTTGAAAAGGAGAGGAGTGGGAGAGGCAGAGTGGATGGAGAACAAGGAATCATTTTCTATATTTTTAAAGTTCTTCAGTTAAGAAAATCAGCAATTACAATAGCCTAATCTTACTAGACATGTCTTTTCTTCCCTAGTATGTAAGGTCAATTCTGTTCATTTGCATAGGAGATAATCATAGGAATCCCAAATTAATACACTCTTGTGCTGACTTACCAGATGGGACACTCTAAGATTTTCTGCATAGCATTAATGACATTTTGTACTTCTTCAACGCGAAGAGCAGATAAATCCATTTCTTTCTGTTCCAATGAACTTTAACACATTAGAAAAACATATATATATATCTTTTTAAAAGGTTTATAAAATGACAACTTCATTTTATCATTTTAAAATAAAGTAAATTTAAGATTTGGAAGGTTTTAGAATAATACAAACCAAAGAACTAATGACAACGTCCTTTATTTTTAAAGATTCTAGAAGTTGCTTTTTGTAATTAGACAACATAAATTCTGAATTTTTTCACATATTGCTGCCAACCCCTTGGGTCTTTTCCTTTCTCCAAGAAAGAGAAAGCTACAGAGGAGTGACTGACCGGGTAGGTGGTGGTAGCCTTAGCTTTCTCCAATGTTTCTGGTTGTTTTCTTTTTCTTGCATAAAACCAAAATCAACAACGACCAAACCAACACCAATCAAGGCCTCCCCGCCCCTAACCTTTCCCAGTGACCTGCTCTCATCTCTGGATCCTCCTCAAGCACATCCCTGCCGGCAGCATCTGTTACTACTGACGCTCCTCTACTTCCCTCTTGCGCTTTCTCAATGGCGCAAATGGATCCAGTTCTTAAGTTCTCCCTCCCACAAAATCCTGTCTCCTCCCCTTCCCAGACATATTCCTGGCACCTCTTCTTCCACAAGGTCCCATCCTCTCATACATACCAGCCGGTGTTTTTTGTTTTGTTTTGTTTTGTTTTGTTTTGAGACAGTCTCGCTCTGTCGCCCAGGCTGGAGTGCAATGGCGCGATCTCGGCTCACTGCAACCTCCGCCTCCCGGGTTCTAGCGATTCTCCTGCCTCAGCCTCCTGAGTAGCTGGAGCGGCACCACGCCCGGCTAATTTTTGTATTTTTAGTAGAGACGGAGTTTCACCACGTTGGTCAGGCTGGTCTGGAACTCCTGACCTCATGACCAGCCGACGTTTTTAAAGACATAGTGTCCCCCTCAAGGCATATTCCAGTTCCTATCACGAGGATTCCCCCACGGACACTCAGTGCCCCCTTCCTGATCCTCAGCGCTTCCCTCGCGACCTACAAACTGCCCCCCTCCCCAGGGTTCACAACGCCTTACGCCTCTCAGGTTCCGCCCCTACCCCCCGTCAAAGAATACCCATCTGTCAGCTTCGGAAATCCACTCTCCCACGCCAGTACCCCAGAGCATCACTTGGGCCCCCTGTCCCTTTCCCGGGACTCTACTACCTTTACCCAGAGCAGAGGGTGAAGGCCTCCTGAGCGCAGGGGCCCAGTTATCTGAGAAACCCCACAGCCTGTCCCCCGTCCAGGAAGTCTCAGCGAGCTCACGCCGCGCAGTCGCAGTTTTAATTTATCTGTAATTCCCGCGCTTTTCCGTTGCCACGGAAACCAAGGGGCTACCGCTAAGCAGCAGCCTCTCAGAATACGAAATCAAGGTACAATCAGAGGATGGGAGGGACAGAAAGAGCCAAGCGTCTCTCGGGGCTCTGGATTGGCCACCCAGTCTGCCCCCGGATGACGTAAAAGGAAAGAGACGGAAGAGGAAGAATTCTACCTGAGTTTGCCATAAAGTGCCTGCCCTCTAGCCTCTACTCTTCCAGTTGCGGCTTATTGCATCACAGTAATTGCTGTACGAAGGTCAGAATCGCTACCTATTGTCCAAAGCAGTCGTAAGAAGAGGTCCCAATCCCCCACTCTTTCCGCCCTAATGGAGGTCTCCAGTTTCGGTAAATATAAGTAATAAGGATTGTTGGGGGGGTGGAGGGAAATAATTATTTCCAGCATGCGTTGCGGAATGAAAGGTCTTCGCCACAGTGTTCCTTAGAAACTGTAGTCTTATGGAGAGGAACATCCAATACCAGAGCGGGCACAATTCTCACGGAAATCCAGTGGATAGATTGGAGACCTGTGCGCGCTTGTACTTGTCAACAGTTATGGACTGGAGTGTTATGTTTTCGTATTTTGAAAGCAGAAACTAGGCCTTAAAAAGATACGTACAACTCTTTAGGGAGACTACAATTCCCATCCAGCCCCAGGAGTCTGGGGCAAGTAGTCTTGTAAGGTCAGTGGCCTGCGGGGACGCAGTGAGCGCCGAATTTGCCTGGGGCAGGGGAAATGCGCTCTGGCCCATGTCTGCGCACTCGTAGTTCCACCCCTCAGCCCCAGTGTTTGTTATTTTTCGGGTTCAGCTTGCTTTTGCCCCGTCTCCGTCGACGCAATCGCCACCAGTCAATGGGGTGGTCGTTTTGAGGGACAAGTGGTAAGAGCCAATCTTCTTGGCGAAAACGCGGAGAAACGGGACTAGTTACTGTCTTTGTCCGCCATGTTAGATTCACCCCACAGAGATAGCGGCAGAGCTGGCAGCGGACGGTCTTTGCATTGCCGCCTCCCCAGGGGGCGGGAAGCTGGTAAGGAAGCAGCCTGGGTTAGCTAGGGGTGGGGTCACGTCACACTAAGAGGGTTTGGAGAAGTTCAAGGGAGGAATCCTGCAAAGAAGAGGGGCGACTTTTTCCGTGTCTCCGGACAGCTAATCGTTTTAGTGACAGGATGAGAGAGCCCTTCGTGTTCTGAGGGACCGAGTGGGCGAAAAGCGCCGGAGAGTTGGAGAGTCTGTGGTTCAGAATGCGAGGTGACAACGTGCTAGCAGCCCTCGCTCGCTCTCGGCGCCTCCTCGGCCTTGGCGTCCATTCTGGCCGTGCTGGAGGAGCCCTTCAGCCCGCCACTGCGCTGTGGGGGCCCCTCTCTGGGCTGGCCGAAGCCAGAGCCGGCTCCCTCTGCTTGCGGGGAAGTGTGGAGGGAGAGGCGGGTGTGGGAACTGGGGCTGCGCGCAGCGCTCGCCAGCCAGCGCGAGTTCCAGGTGGGCGCGGGCTCAGCGGGCCCCGCACCCCCGGCCCCGGGCAGTCAGGGGCCTAGCACCCGGGCCAGCAGCTGCAGAGGGTGCGCCGGGTCCCCCAGCACTGCCGGCCCGCCTGCACCCCGCTTGAATTCTCACCGGGCCCCAGCCGCCCTGCACAGGGCAAGGCTCAGGACCTGCAGCCCGCCATGCCCGAGCCCCCTCCCAACCCCTGTGAGCTCCAGCGTGGCCTGAGCCTCCCCGACGGGCACCGCCCCCTGCTCCTCAGCGCCCGGTCCCATCGACTGCCCAAGGGCTGAGAGGAGTGCAGGCGCCCGGCACAGCCCTGCGCAGGATCCACTAGGTGAAGCCAGCTGGGCTCCTGAGTCAGATGGGGACTTGGAAAACTTTTATGTCTAGCCTGAGGATTTTATATGCACCAGTCAGCACTCTGTGTCTAGCTTGGGGTTTGGGGATGCACCAATCAGCACTCTGTATCTAGCTAATCTGGTGGGCACTTGGAGAACTTCTGTGTCTAGCTAAAGGATTGTAAATGCACCAATCAGTGCTCTGTGTCTAGCTCAAGGTTTGCAAATGCACCAATCAGCACTCTGTGTCTAGCTAAAGGTTTGTAAACGCACCAATCAGTGCTCTGTGTCTAGCAAATGTAGTGGGGACTTGGAGAATTTTTATGTCTAGCTAGAGGATTGTAAATGCACCAATCAGCACTCTGTGTATATCTAGCTCAGGGATTGTAAATGCACCAATCAGCACCCTGTCAAAACGGACCAATTAGCTCTCTGTAAAATGGACCAATCAACAGGATGTGGGTGGGGTCAGATAAGGGAATAAAAGCAGGCTGCCCCGCTGGGTGCCAGTGGCTCACACCTGTAATCCCAGCAATTTGGGAGGCCTAGAGGGGTGGATCACGAGGTCAAGAGATCGAGACCATCCTGGCTAACACAGTGAAACCCCGACTCTACTAAAAAGACAAAATATTAGCTGGGTGCGGTGGTGGGTGCCTGTAATCCCCTCTACTGGGGAGGTTGAGGCAGGAGAATGGCGTGAACCCGGGAGGCGGAGCTTGCAGTGAGCCCAGATTGCACCACTGCATTCCAGCCTGGGTGACAGAGGGAGACTCCATCTCAAAAAAAAAAAAAAAAAAAAAAAAAAATGCAGGCTGCCTGAGCCAGCAGCAGCAACCCGCTCTGGTCTCCTTCCACGCTGTGGAAGCTTTGTTCTTGTGCTCTTTGCAATAAATCTTGCTGCTGCTCACTCTTTGGGTCCGCATAGCATTTATCTGCTGGTAACACCGACCGCAGAGGTCTGCAGCTTCA',\n",
       " 'TTTAAACACTTTTCAAACCAGGCAATATTTTAGGCCTACTGTATATTTGCATTTTGAGCTTCCAATACGGATAAGTGACTGGAAAAAGCAGCTAGGTTTAGGTTGAAAAACAACAACCCACCGGGGAACACATTTTAGCAAATTCTTCTGAAAGTCAAAAATGTTATAGTCATAGGTAAAAAGTTACAAAGAACTACCAATTGTCAGAAATAGCTGCCAATATTGACTTAGAAGACAGCAGAAGGAATTTTAGTTCAAGAAACCTAAAACAGGCTGAAAACCTTACCTACCCTATAGCTACCACAAATAACACTGTTTCCAGTCATGATCATTCCTGATCACATATTAAGACATAACTGCAAATTGTGCTATACTGTACTATATTAAAAGGAAGTGAAATATGATCCCTATCCTAGAACTTTCCATACAAATGAATGTAAAACACCATAAAAATTAATCTTAAGGCCGGGCGCGGTGGCTCACGCCTGTAATCCCAGCACTTTGGGAGGCCGAGGTGGGCGGATCACGAGGTCAGGAAGTGGAGACCATCCTGGCTAACACGGTGAAACCCCGTCTCTACTAAAAATACAAAAAATTAGCCGGGCGTGGTGGTGGACGCCTGTAGTCCCAGCTACTTGGGGGGCCGAGGCAGGAGAATGGCGTGAACCCGGGAGGCGGAGCTTGCAGTGAGCCGAGATGGCGCCACTGCACTCCGGCCTGGGTGAAAGAGCGAGACTCCGTCTCAAAAACAAAACAAACAAAAATTAATCTTAAGCCAGGCGCAGTGGCTCACGCCAGCACTTTGGAAGGCCGAGGCGGGTGGATCACGAGATCAGGACTTCAAGACCAGCCTGACCAACGTGATGAAACCCTATCTCTACTAAAAATACAAAATTAGCCGGCCACGGTGGCGTGCGCCTATAATCCCAGCTACTCAGGAGGCTGAGGCAGGAGAAGCGCTTGAACTTGAACCTGGCAGGCGGAGGTTGCAGTGAGCCAAGATGGCGCCACTGCACTCCAGCCTGGGCGACAGAGCCAGACTCCAACCCCCCACCCCGAAAAAAAAAGGTCCAGGCCGGGCGCAGTGGCTCAGGACTGTAATCCCAGCACTTTGGAAGGCTGAGGCGGGTGGATCACAAGGTCAGGAGATCGAGACCATCTTGGCTAACATGGTGAAACCCCGTCTCTACTAAAAATACAAAAAATTAGCCGGGCATAGTGGTGGGCGCCTGTAGTCCCAGCTACTCGGGAGGCTGAGGCAGGAGAATGGCCTGAACCCGGGAGGCGGAGCTGGCAGTGAGCCAAGATCGTGCCACTGCACTCCAGCCTAGGCAGCAGAGCGAGACCGTGTCTCAAAAAAACAAAACAAAACAAAACAAAAAGTCTGGGAGCGGTGGCTCACGCCTGTAATCCCAGCACTTTCGGAGGCCAAGGCAGGAGGATCACCTGAGGTCAGGAGTTCGAGACCAACCTGACCAATATGGAGAAACCCTGTCTCTACTAAAAATACAAAATTAGCTGGTGTGATGGCACATGCCTGCAATCCCAGGTACTCCGGAGGCTGAGGCAGCAGAATTGCTTGAACCCGGGAGGTGGAGGTTGTAGTGAGCCGAGATTGTGCCACTGCACTCCAGCCTGGGCAACAAGAGCCAAAGTCTGTCTCAAAAAAAAAAAAAAAAAAAAAAAAAGAAATTAATCTTAACAGGAAACAGAAAAAAGCAATGAAAAGCTAGAAAACATAATAGTTGATTGAAAATAACAATTTAGCATTTTCATTCTTACATCTTTAATTTTTATGTATCTGAGTTTTTAATTGATGGTTTAATTTGCCAGAATGAGAAAGAACATCCTATTTTTATGACTCTCTCCCATGGAAATGAAACATAAATGTATCCAAATGCCACACTATTGAGGATTTTCCTGATCACTGATTGTCATGAGTAAGTTTTGTGCTTTTTCAAAAGCAGTTTTTTCCTACAATGTCATTTCCTGCTTCTCTGGCTCTGATTTTCAATAAATTGATAAATTGTGAATCCTGTTTTCCTCTTATTTTTGTTTAGCTATAATGTTGAAGGGCAAGGGAGAGGATGGTTATTTATAAATCTTGTATCGCTCTGAAAACACAACATACATTTTCCTTAATCTGATTAACTTGACTTCAAATATGAAAAACAACTTTCATAAAGCAGAAAAGAATTTACCCTTTTTTATTGTGGGTAAGAGGCAATGGTACAACTTTTCAACTTATTTTTTGAATGTTACTCACTACTAACCATCACCATATTTAAAAAAATTAAAGAACTAATTTAGTTTAGTTTATTATTTATTTGACAAATGTTTATTGAGTGGCAACTAGGTCCCAAGTACCGTTCTAACTACTGAACATACAGATGTATGTAAACAAAACAAAAATCCCATCCTGGAGTTTACATTCTGTGGGACTAGAGATAAAAAATGGATACATTACATAGAATGTCAGCTAGTAATCAGTGTTATGGAGAAGCAGCAGGAATAGAAGATAAAGTGTGTGCTGGGGGTGTGGTAATTTTAAATAGGGGTGTCTGGAAATGAAAAGGTGGTATTTCAATCAAGATTTTTAGACCATGGCTGGGTGCAATGGCTCAGGCCTGTAATCCCAGCACCTTGAGAGGCCAAGGGAGGGTAGATCACTTGAGGTCAGGAGTTTGAGACCAGCATGGCCAACATAGCAAAACCCTATCTCTACAACAGAAAAATACAAGAATGGCTGGACGCAGTGGCTTATGCCTGTAATCCTAGCACTTTGGGAGGCCCAGGCGGGTGGATCACAAGGTCAGGAGATCAAGACTATCCTGGCTAACACGGTGAAATCCCGCCTCTACTAAAAAAGAAAAAAAAATACAAAAAATTAGCCGGGCGTGGTAGTGGGTGCTTGTAGTCCCAGCTATTCAGGAGGCTCAGGCAGAAGAATGGCATGAACCCGGGAGGCAGAGTTTGCAGTGAGCTGAGATCGCGCCACTGCACTCCAGCCTGGGCAACAGAGCAAGACTCCATCTCAAAAAAAGAAAAAAAAATACAAAAATTAGCTGGGCATGGTGGTGCACACCTATCGTCCCTGCTACTCTGGAGGCTGAGGTGGGAGGATTGCTTGAGCCTGACGAGGTTGAGGCTGCAGTGAGCTGTGATAGCACCACTGCACTCCAGCCTCTCGACAGAGATCCTATATAAAAAAAAAACCTCTGCATTTCATTGTATGTAAATAAGTATGTAATTTCATTGTATGTACAGAGCCAGTTTCAAACAAAGGTTCTTCCAAATACCTATCCTCTCAACGACACCGATCATCCATGTTTTTTTTTTTTTTTTTTTTTTTTTGAGATGGAGTTTAGCTCTGTCGCTGGAGTTCAGTGGTGCCATATTGGCTCACAGCAACATCTGCCTCCTGGTTCAAGTGATTCTCCTGCCTCAGCCTCCTGAGTAGCTGGGATTACAGGCACATGCCACTACGCCCAGCTAATTTTTGTATTTTTAGTGGAGAGGGGGTTTCACCATGTTGGCCAGGATGGTCTCGATCTCCTGACCTCGTGATCCTACCACCTTGGCCTCCCAAAGTGCTGGGATTACAGGCATAAGCCACCGCCCTCGGCCTCATCCATGATTTTATTTTGCCATTTCAAGTGATGGAGCTTGTTTTAGAGCTGGAAGAAAAGCCAAAATGCCAGTTAATCTAAACTAGATTCCTGCCCCAGTGCAGAACCAATCAAGACAGAGTCCCTGTCTTTCCCGGACCACAGGATTTGTGTTGAAAAGGAGAGGAGTGGGAGAGGCAGAGTGGATGGAGAACAAGGAATCATTTTCTATATTTTTAAAGTTCTTCAGTTAAGAAAATCAGCAATTACAATAGCCTAATCTTACTAGACATGTCTTTTCTTCCCTAGTATGTAAGGTCAATTCTGTTCATTTGCATAGGAGATAATCATAGGAATCCCAAATTAATACACTCTTGTGCTGACTTACCAGATGGGACACTCTAAGATTTTCTGCATAGCATTAATGACATTTTGTACTTCTTCAACGCGAAGAGCAGATAAATCCATTTCTTTCTGTTCCAATGAACTTTAACACATTAGAAAAACATATATATATATCTTTTTAAAAGGTTTATAAAATGACAACTTCATTTTATCATTTTAAAATAAAGTAAATTTAAGATTTGGAAGGTTTTAGAATAATACAAACCAAAGAACTAATGACAACGTCCTTTATTTTTAAAGATTCTAGAAGTTGCTTTTTGTAATTAGACAACATAAATTCTGAATTTTTTCACATATTGCTGCCAACCCCTTGGGTCTTTTCCTTTCTCCAAGAAAGAGAAAGCTACAGAGGAGTGACTGACCGGGTAGGTGGTGGTAGCCTTAGCTTTCTCCAATGTTTCTGGTTGTTTTCTTTTTCTTGCATAAAACCAAAATCAACAACGACCAAACCAACACCAATCAAGGCCTCCCCGCCCCTAACCTTTCCCAGTGACCTGCTCTCATCTCTGGATCCTCCTCAAGCACATCCCTGCCGGCAGCATCTGTTACTACTGACGCTCCTCTACTTCCCTCTTGCGCTTTCTCAATGGCGCAAATGGATCCAGTTCTTAAGTTCTCCCTCCCACAAAATCCTGTCTCCTCCCCTTCCCAGACATATTCCTGGCACCTCTTCTTCCACAAGGTCCCATCCTCTCATACATACCAGCCGGTGTTTTTTGTTTTGTTTTGTTTTGTTTTGTTTTGAGACAGTCTCGCTCTGTCGCCCAGGCTGGAGTGCAATGGCGCGATCTCGGCTCACTGCAACCTCCGCCTCCCGGGTTCTAGCGATTCTCCTGCCTCAGCCTCCTGAGTAGCTGGAGCGGCACCACGCCCGGCTAATTTTTGTATTTTTAGTAGAGACGGAGTTTCACCACGTTGGTCAGGCTGGTCTGGAACTCCTGACCTCATGACCAGCCGACGTTTTTAAAGACATAGTGTCCCCCTCAAGGCATATTCCAGTTCCTATCACGAGGATTCCCCCACGGACACTCAGTGCCCCCTTCCTGATCCTCAGCGCTTCCCTCGCGACCTACAAACTGCCCCCCTCCCCAGGGTTCACAACGCCTTACGCCTCTCAGGTTCCGCCCCTACCCCCCGTCAAAGAATACCCATCTGTCAGCTTCGGAAATCCACTCTCCCACGCCAGTACCCCAGAGCATCACTTGGGCCCCCTGTCCCTTTCCCGGGACTCTACTACCTTTACCCAGAGCAGAGGGTGAAGGCCTCCTGAGCGCAGGGGCCCAGTTATCTGAGAAACCCCACAGCCTGTCCCCCGTCCAGGAAGTCTCAGCGAGCTCACGCCGCGCAGTCGCAGTTTTAATTTATCTGTAATTCCCGCGCTTTTCCGTTGCCACGGAAACCAAGGGGCTACCGCTAAGCAGCAGCCTCTCAGAATACGAAATCAAGGTACAATCAGAGGATGGGAGGGACAGAAAGAGCCAAGCGTCTCTCGGGGCTCTGGATTGGCCACCCAGTCTGCCCCCGGATGACGTAAAAGGAAAGAGACGGAAGAGGAAGAATTCTACCTGAGTTTGCCATAAAGTGCCTGCCCTCTAGCCTCTACTCTTCCAGTTGCGGCTTATTGCATCACAGTAATTGCTGTACGAAGGTCAGAATCGCTACCTATTGTCCAAAGCAGTCGTAAGAAGAGGTCCCAATCCCCCACTCTTTCCGCCCTAATGGAGGTCTCCAGTTTCGGTAAATATAAGTAATAAGGATTGTTGGGGGGGTGGAGGGAAATAATTATTTCCAGCATGCGTTGCGGAATGAAAGGTCTTCGCCACAGTGTTCCTTAGAAACTGTAGTCTTATGGAGAGGAACATCCAATACCAGAGCGGGCACAATTCTCACGGAAATCCAGTGGATAGATTGGAGACCTGTGCGCGCTTGTACTTGTCAACAGTTATGGACTGGAGTGTTATGTTTTCGTATTTTGAAAGCAGAAACTAGGCCTTAAAAAGATACGTACAACTCTTTAGGGAGACTACAATTCCCATCCAGCCCCAGGAGTCTGGGGCAAGTAGTCTTGTAAGGTCAGTGGCCTGCGGGGACGCAGTGAGCGCCGAATTTGCCTGGGGCAGGGGAAATGCGCTCTGGCCCATGTCTGCGCACTCGTAGTTCCACCCCTCAGCCCCAGTGTTTGTTATTTTTCGGGTTCAGCTTGCTTTTGCCCCGTCTCCGTCGACGCAATCGCCACCAGTCAATGGGGTGGTCGTTTTGAGGGACAAGTGGTAAGAGCCAATCTTCTTGGCGAAAACGCGGAGAAACGGGACTAGTTACTGTCTTTGTCCGCCATGTTAGATTCACCCCACAGAGATAGCGGCAGAGCTGGCAGCGGACGGTCTTTGCATTGCCGCCTCCCCAGGGGGCGGGAAGCTGGTAAGGAAGCAGCCTGGGTTAGCTAGGGGTGGGGTCACGTCACACTAAGAGGGTTTGGAGAAGTTCAAGGGAGGAATCCTGCAAAGAAGAGGGGCGACTTTTTCCGTGTCTCCGGACAGCTAATCGTTTTAGTGACAGGATGAGAGAGCCCTTCGTGTTCTGAGGGACCGAGTGGGCGAAAAGCGCCGGAGAGTTGGAGAGTCTGTGGTTCAGAATGCGAGGTGACAACGTGCTAGCAGCCCTCGCTCGCTCTCGGCGCCTCCTCGGCCTTGGCGTCCATTCTGGCCGTGCTGGAGGAGCCCTTCAGCCCGCCACTGCGCTGTGGGGGCCCCTCTCTGGGCTGGCCGAAGCCAGAGCCGGCTCCCTCTGCTTGCGGGGAAGTGTGGAGGGAGAGGCGGGTGTGGGAACTGGGGCTGCGCGCAGCGCTCGCCAGCCAGCGCGAGTTCCAGGTGGGCGCGGGCTCAGCGGGCCCCGCACCCCCGGCCCCGGGCAGTCAGGGGCCTAGCACCCGGGCCAGCAGCTGCAGAGGGTGCGCCGGGTCCCCCAGCACTGCCGGCCCGCCTGCACCCCGCTTGAATTCTCACCGGGCCCCAGCCGCCCTGCACAGGGCAAGGCTCAGGACCTGCAGCCCGCCATGCCCGAGCCCCCTCCCAACCCCTGTGAGCTCCAGCGTGGCCTGAGCCTCCCCGACGGGCACCGCCCCCTGCTCCTCAGCGCCCGGTCCCATCGACTGCCCAAGGGCTGAGAGGAGTGCAGGCGCCCGGCACAGCCCTGCGCAGGATCCACTAGGTGAAGCCAGCTGGGCTCCTGAGTCAGATGGGGACTTGGAAAACTTTTATGTCTAGCCTGAGGATTTTATATGCACCAGTCAGCACTCTGTGTCTAGCTTGGGGTTTGGGGATGCACCAATCAGCACTCTGTATCTAGCTAATCTGGTGGGCACTTGGAGAACTTCTGTGTCTAGCTAAAGGATTGTAAATGCACCAATCAGTGCTCTGTGTCTAGCTCAAGGTTTGCAAATGCACCAATCAGCACTCTGTGTCTAGCTAAAGGTTTGTAAACGCACCAATCAGTGCTCTGTGTCTAGCAAATGTAGTGGGGACTTGGAGAATTTTTATGTCTAGCTAGAGGATTGTAAATGCACCAATCAGCACTCTGTGTATATCTAGCTCAGGGATTGTAAATGCACCAATCAGCACCCTGTCAAAACGGACCAATTAGCTCTCTGTAAAATGGACCAATCAACAGGATGTGGGTGGGGTCAGATAAGGGAATAAAAGCAGGCTGCCCCGCTGGGTGCCAGTGGCTCACACCTGTAATCCCAGCAATTTGGGAGGCCTAGAGGGGTGGATCACGAGGTCAAGAGATCGAGACCATCCTGGCTAACACAGTGAAACCCCGACTCTACTAAAAAGACAAAATATTAGCTGGGTGCGGTGGTGGGTGCCTGTAATCCCCTCTACTGGGGAGGTTGAGGCAGGAGAATGGCGTGAACCCGGGAGGCGGAGCTTGCAGTGAGCCCAGATTGCACCACTGCATTCCAGCCTGGGTGACAGAGGGAGACTCCATCTCAAAAAAAAAAAAAAAAAAAAAAAAAAATGCAGGCTGCCTGAGCCAGCAGCAGCAACCCGCTCTGGTCTCCTTCCACGCTGTGGAAGCTTTGTTCTTGTGCTCTTTGCAATAAATCTTGCTGCTGCTCACTCTTTGGGTCCGCATAGCATTTATCTGCTGGTAACACCGACCGCAGAGGTCTGCAGCTTC']"
      ]
     },
     "execution_count": 3,
     "metadata": {},
     "output_type": "execute_result"
    }
   ],
   "source": [
    "from Bio import SeqIO\n",
    "\n",
    "# Read the FASTA file\n",
    "file_path = \"notebooks/brca1/brca1_selected_seq/brca1_selected_sequences.fasta\"\n",
    "sequences = {}\n",
    "\n",
    "for record in SeqIO.parse(file_path, \"fasta\"):\n",
    "    sequences[record.id] = str(record.seq)\n",
    "\n",
    "# evo2 model needs an Array[str]\n",
    "\n",
    "bionemo_selected_seqs = [v for k,v in sequences.items()]\n",
    "bionemo_selected_seqs"
   ]
  },
  {
   "cell_type": "markdown",
   "id": "ba4686f4-7a44-49ef-ba98-e572a7358f30",
   "metadata": {},
   "source": [
    "## Comparing Preds"
   ]
  },
  {
   "cell_type": "markdown",
   "id": "3897fa49-7eff-4d53-bb5c-36f615ca0648",
   "metadata": {},
   "source": [
    "### BioNeMo Preds:"
   ]
  },
  {
   "cell_type": "code",
   "execution_count": 4,
   "id": "bcabef55-7dab-4206-ac09-fe1beab8aef6",
   "metadata": {},
   "outputs": [
    {
     "name": "stderr",
     "output_type": "stream",
     "text": [
      "/tmp/ipykernel_3956696/3010489536.py:11: FutureWarning: You are using `torch.load` with `weights_only=False` (the current default value), which uses the default pickle module implicitly. It is possible to construct malicious pickle data which will execute arbitrary code during unpickling (See https://github.com/pytorch/pytorch/blob/main/SECURITY.md#untrusted-models for more details). In a future release, the default value for `weights_only` will be flipped to `True`. This limits the functions that could be executed during unpickling. Arbitrary objects will no longer be allowed to be loaded via this mode unless they are explicitly allowlisted by the user via `torch.serialization.add_safe_globals`. We recommend you start setting `weights_only=True` for any use case where you don't have full control of the loaded file. Please open an issue on GitHub for any issues related to this experimental feature.\n",
      "  bionemo_preds = torch.load(selected_seq_pred_files[0])\n"
     ]
    },
    {
     "data": {
      "text/plain": [
       "{'log_probs_seqs': tensor([-1.0852, -1.0871]), 'seq_idx': tensor([0, 1])}"
      ]
     },
     "execution_count": 4,
     "metadata": {},
     "output_type": "execute_result"
    }
   ],
   "source": [
    "selected_dir = Path(\"notebooks/brca1/brca1_selected_seq\")\n",
    "\n",
    "# Find and load prediction files\n",
    "selected_seq_pred_files = glob.glob(os.path.join(selected_dir, \"predictions__rank_*.pt\"))\n",
    "\n",
    "# Load sequence ID maps (maps sequence ID -> prediction index)\n",
    "with open(os.path.join(selected_dir, \"seq_idx_map.json\"), \"r\") as f:\n",
    "    ref_seq_idx_map = json.load(f)\n",
    "\n",
    "# Load predictions\n",
    "bionemo_preds = torch.load(selected_seq_pred_files[0])\n",
    "bionemo_preds"
   ]
  },
  {
   "cell_type": "markdown",
   "id": "bc6b6998-9d43-405e-a68b-a0123f15d170",
   "metadata": {},
   "source": [
    "### Get Preds From evo2's model:"
   ]
  },
  {
   "cell_type": "code",
   "execution_count": 5,
   "id": "951b2eb0-17da-481f-a8dd-6812108c6917",
   "metadata": {},
   "outputs": [
    {
     "name": "stderr",
     "output_type": "stream",
     "text": [
      "100%|████████████████████████████████████████████████████████████████████████████████████████████████████████████████| 2/2 [00:01<00:00,  1.59it/s]\n"
     ]
    },
    {
     "data": {
      "text/plain": [
       "[np.float32(-0.9418016), np.float32(-0.94185793)]"
      ]
     },
     "execution_count": 5,
     "metadata": {},
     "output_type": "execute_result"
    }
   ],
   "source": [
    "model.score_sequences(bionemo_selected_seqs)"
   ]
  },
  {
   "cell_type": "markdown",
   "id": "c0e4b0ea-885d-4a2e-8fed-b6d0e947bc8e",
   "metadata": {},
   "source": [
    "## Thus: BioNeMo Preds != Evo2 Preds\n",
    "\n",
    "For bionemo2 on the same sequence, we get:\n",
    "\n",
    "`{'log_probs_seqs': tensor([-1.0852, -1.0871]), 'seq_idx': tensor([0, 1])}`\n",
    "\n",
    "But arc gets:\n",
    "\n",
    "`[np.float32(-0.9418016), np.float32(-0.94185793)]`"
   ]
  },
  {
   "cell_type": "markdown",
   "id": "23c2f410-584f-4ba3-a3bf-8af4d64e9a67",
   "metadata": {},
   "source": [
    "What about for just the output logits?\n",
    "\n",
    "---\n",
    "\n",
    "## Compare Logits For Same Sequence:\n",
    "\n",
    "### BioNeMo logits:"
   ]
  },
  {
   "cell_type": "code",
   "execution_count": 7,
   "id": "b1a3face-c34f-4e84-8ead-92ae5b39d9a4",
   "metadata": {},
   "outputs": [
    {
     "name": "stdout",
     "output_type": "stream",
     "text": [
      "logit shape: torch.Size([2, 8192, 512])\n"
     ]
    },
    {
     "name": "stderr",
     "output_type": "stream",
     "text": [
      "/tmp/ipykernel_3956696/1079501660.py:14: FutureWarning: You are using `torch.load` with `weights_only=False` (the current default value), which uses the default pickle module implicitly. It is possible to construct malicious pickle data which will execute arbitrary code during unpickling (See https://github.com/pytorch/pytorch/blob/main/SECURITY.md#untrusted-models for more details). In a future release, the default value for `weights_only` will be flipped to `True`. This limits the functions that could be executed during unpickling. Arbitrary objects will no longer be allowed to be loaded via this mode unless they are explicitly allowlisted by the user via `torch.serialization.add_safe_globals`. We recommend you start setting `weights_only=True` for any use case where you don't have full control of the loaded file. Please open an issue on GitHub for any issues related to this experimental feature.\n",
      "  selected_preds_jf = torch.load(selected_seq_pred_just_forward_files[0])\n"
     ]
    },
    {
     "data": {
      "text/plain": [
       "{'token_logits': tensor([[[-11.7500, -44.2500, -44.2500,  ..., -44.2500, -44.2500, -44.2500],\n",
       "          [ -8.8125, -48.0000, -48.0000,  ..., -48.0000, -48.0000, -48.0000],\n",
       "          [ -6.8438, -47.0000, -47.0000,  ..., -47.2500, -47.0000, -47.0000],\n",
       "          ...,\n",
       "          [ -9.5625, -42.0000, -42.0000,  ..., -42.0000, -42.0000, -42.0000],\n",
       "          [ -8.8125, -37.0000, -37.0000,  ..., -37.0000, -37.0000, -37.0000],\n",
       "          [ -9.6875, -41.7500, -41.7500,  ..., -42.0000, -41.7500, -41.7500]],\n",
       " \n",
       "         [[-11.8125, -44.2500, -44.2500,  ..., -44.2500, -44.2500, -44.2500],\n",
       "          [ -8.8750, -48.0000, -48.0000,  ..., -48.0000, -48.0000, -48.0000],\n",
       "          [ -6.9375, -47.2500, -47.2500,  ..., -47.2500, -47.2500, -47.2500],\n",
       "          ...,\n",
       "          [ -9.5625, -40.7500, -40.7500,  ..., -41.0000, -40.7500, -40.7500],\n",
       "          [ -9.5625, -41.7500, -41.7500,  ..., -41.7500, -41.7500, -41.7500],\n",
       "          [ -8.9375, -37.2500, -37.2500,  ..., -37.5000, -37.2500, -37.2500]]]),\n",
       " 'pad_mask': tensor([[1, 1, 1,  ..., 1, 1, 1],\n",
       "         [1, 1, 1,  ..., 1, 1, 1]]),\n",
       " 'seq_idx': tensor([0, 1]),\n",
       " 'input_ids': tensor([[84, 84, 65,  ..., 84, 67, 65],\n",
       "         [84, 84, 84,  ..., 84, 84, 67]])}"
      ]
     },
     "execution_count": 7,
     "metadata": {},
     "output_type": "execute_result"
    }
   ],
   "source": [
    "selected_dir2 = Path(\"notebooks/brca1/brca1_selected_seq2\")\n",
    "\n",
    "selected_dir_just_foward = selected_dir2 / \"just_forward2\"\n",
    "\n",
    "\n",
    "# Find and load prediction files\n",
    "selected_seq_pred_just_forward_files = glob.glob(os.path.join(selected_dir_just_foward, \"predictions__rank_*.pt\"))\n",
    "\n",
    "# Load sequence ID maps (maps sequence ID -> prediction index)\n",
    "with open(os.path.join(selected_dir_just_foward, \"seq_idx_map.json\"), \"r\") as f:\n",
    "    ref_seq_idx_map_jf = json.load(f)\n",
    "\n",
    "# Load predictions\n",
    "selected_preds_jf = torch.load(selected_seq_pred_just_forward_files[0])\n",
    "print(f\"logit shape: {selected_preds_jf['token_logits'].shape}\")\n",
    "selected_preds_jf"
   ]
  },
  {
   "cell_type": "markdown",
   "id": "49a56a7c-bcd3-485d-afc8-f6226f388f5b",
   "metadata": {},
   "source": [
    "## Evo2 Logits:\n",
    "\n",
    "To get Evo2 logits, run through their `prepare_batch` func then pass thru model.\n",
    "\n",
    "(Note - I've confirmed this is the same output they get via pdb):"
   ]
  },
  {
   "cell_type": "code",
   "execution_count": 8,
   "id": "269bdbf6-042c-476f-b2cd-ac22309fa3fd",
   "metadata": {},
   "outputs": [],
   "source": [
    "def prepare_batch(\n",
    "        seqs,\n",
    "        prepend_bos: bool = False,\n",
    "        device: str = 'cuda:0'\n",
    "):\n",
    "    \"\"\"\n",
    "    Takes in a list of sequences, tokenizes them, and puts them in a tensor batch.\n",
    "    Tokenization is done directly by converting characters to ASCII values.\n",
    "    e.g. TTA... -> ([84, 84, 65, ...)]\n",
    "    \"\"\"\n",
    "    seq_lengths = [len(seq) for seq in seqs]\n",
    "    print(f\"seq_lens: {seq_lengths}\")\n",
    "    input_ids = []\n",
    "    for seq in seqs:\n",
    "        # Direct tokenization using list comprehension with ord()\n",
    "        tokens = [ord(char) for char in seq]\n",
    "        input_ids.append(\n",
    "            torch.tensor(tokens, dtype=torch.long).to(device).unsqueeze(0)\n",
    "        )\n",
    "    input_ids = torch.cat(input_ids, dim=0)\n",
    "    return input_ids, seq_lengths\n"
   ]
  },
  {
   "cell_type": "code",
   "execution_count": 9,
   "id": "270b55f5-e3a7-4dd0-a847-40abe90ff016",
   "metadata": {},
   "outputs": [
    {
     "name": "stdout",
     "output_type": "stream",
     "text": [
      "seq_lens: [8192, 8192]\n"
     ]
    }
   ],
   "source": [
    "input_ids, seq_lengths = prepare_batch(bionemo_selected_seqs, device='cuda:0', prepend_bos=False)\n",
    "assert len(seq_lengths) == input_ids.shape[0]\n"
   ]
  },
  {
   "cell_type": "code",
   "execution_count": 10,
   "id": "8f73b4bf-365c-495d-8d61-64b2c44154d3",
   "metadata": {},
   "outputs": [],
   "source": [
    "with torch.inference_mode():\n",
    "        logits, _ = model(input_ids)"
   ]
  },
  {
   "cell_type": "code",
   "execution_count": 11,
   "id": "8f5793c5-ca19-4a5f-a4e3-82acbde41d25",
   "metadata": {},
   "outputs": [
    {
     "data": {
      "text/plain": [
       "(tensor([[[ -7.7188, -47.7500, -47.7500,  ..., -47.7500, -47.7500, -47.7500],\n",
       "          [ -6.1875, -47.2500, -47.2500,  ..., -47.5000, -47.2500, -47.2500],\n",
       "          [ -6.0625, -47.5000, -47.5000,  ..., -47.5000, -47.5000, -47.5000],\n",
       "          ...,\n",
       "          [ -6.3750, -42.7500, -42.7500,  ..., -42.7500, -42.7500, -42.7500],\n",
       "          [ -6.3750, -46.5000, -46.5000,  ..., -46.7500, -46.5000, -46.5000],\n",
       "          [ -6.1250, -43.2500, -43.2500,  ..., -43.2500, -43.2500, -43.2500]],\n",
       " \n",
       "         [[ -7.6875, -47.5000, -47.5000,  ..., -47.5000, -47.5000, -47.5000],\n",
       "          [ -6.1875, -47.5000, -47.5000,  ..., -47.5000, -47.5000, -47.5000],\n",
       "          [ -6.0312, -47.5000, -47.5000,  ..., -47.5000, -47.5000, -47.5000],\n",
       "          ...,\n",
       "          [ -6.2188, -43.5000, -43.5000,  ..., -43.7500, -43.5000, -43.5000],\n",
       "          [ -6.3125, -42.7500, -42.7500,  ..., -42.7500, -42.7500, -42.7500],\n",
       "          [ -6.2188, -46.5000, -46.5000,  ..., -46.5000, -46.5000, -46.5000]]],\n",
       "        device='cuda:0', dtype=torch.bfloat16),\n",
       " None)"
      ]
     },
     "execution_count": 11,
     "metadata": {},
     "output_type": "execute_result"
    }
   ],
   "source": [
    "logits"
   ]
  },
  {
   "cell_type": "markdown",
   "id": "d8d51fb5-b1b4-4791-8a1a-0e5871692fde",
   "metadata": {},
   "source": [
    "## Thus: BioNeMo 2 Logits != Evo2 Logits\n",
    "\n",
    "Let's make sure the `input_ids` are the same.\n",
    "\n",
    "---\n",
    "\n",
    "## Compare `input_id`s\n",
    "\n",
    "\n",
    "### BioNeMo2 Input Id's:"
   ]
  },
  {
   "cell_type": "code",
   "execution_count": 12,
   "id": "2d696955-fafc-4a16-935d-53e3191b7e92",
   "metadata": {},
   "outputs": [
    {
     "data": {
      "text/plain": [
       "tensor([[84, 84, 65,  ..., 84, 67, 65],\n",
       "        [84, 84, 84,  ..., 84, 84, 67]])"
      ]
     },
     "execution_count": 12,
     "metadata": {},
     "output_type": "execute_result"
    }
   ],
   "source": [
    "bionemo_input_ids = selected_preds_jf['input_ids']\n",
    "bionemo_input_ids"
   ]
  },
  {
   "cell_type": "markdown",
   "id": "c1482f26-ee05-4075-83b2-ab38cfbb6319",
   "metadata": {},
   "source": [
    "### Evo2 Input Id's:"
   ]
  },
  {
   "cell_type": "code",
   "execution_count": 13,
   "id": "0e9b7c78-ea53-42d1-a01c-60106b5fcbce",
   "metadata": {},
   "outputs": [
    {
     "data": {
      "text/plain": [
       "tensor([[84, 84, 65,  ..., 84, 67, 65],\n",
       "        [84, 84, 84,  ..., 84, 84, 67]], device='cuda:0')"
      ]
     },
     "execution_count": 13,
     "metadata": {},
     "output_type": "execute_result"
    }
   ],
   "source": [
    "input_ids"
   ]
  },
  {
   "cell_type": "code",
   "execution_count": 14,
   "id": "fd7b26eb-d462-4528-8dbd-f59bfe7a3bac",
   "metadata": {},
   "outputs": [
    {
     "data": {
      "text/plain": [
       "tensor(True)"
      ]
     },
     "execution_count": 14,
     "metadata": {},
     "output_type": "execute_result"
    }
   ],
   "source": [
    "torch.sum(input_ids[0].cpu() == bionemo_input_ids[0]) == 8192"
   ]
  },
  {
   "cell_type": "code",
   "execution_count": 15,
   "id": "47d57276-1d5f-409a-be54-1361dcecc5e6",
   "metadata": {},
   "outputs": [
    {
     "data": {
      "text/plain": [
       "tensor(True)"
      ]
     },
     "execution_count": 15,
     "metadata": {},
     "output_type": "execute_result"
    }
   ],
   "source": [
    "torch.sum(input_ids[1].cpu() == bionemo_input_ids[1]) == 8192"
   ]
  },
  {
   "cell_type": "markdown",
   "id": "438277f9-9a37-47df-aaaf-c939280478fa",
   "metadata": {},
   "source": [
    "---\n",
    "\n",
    "# Conclusion:\n",
    "\n",
    "Despite equal `input_id`s: BioNeMo2 and Evo2 Models produce different logits for the same fasta sequence."
   ]
  },
  {
   "cell_type": "markdown",
   "id": "631bcc6e-5b7e-4dbc-a264-7fdf8686bf83",
   "metadata": {},
   "source": [
    "## Appendix\n",
    "\n",
    "More stuff"
   ]
  },
  {
   "cell_type": "code",
   "execution_count": 72,
   "id": "cbb8ca4e-a93d-4422-84d1-f834d988d41c",
   "metadata": {},
   "outputs": [],
   "source": [
    "import torch\n",
    "import numpy as np\n",
    "import matplotlib.pyplot as plt\n",
    "import seaborn as sns\n",
    "\n",
    "def categorical_heatmap_comparison(preds1, preds2, title=\"Categorical Heatmap of Model Argmax Predictions\"):\n",
    "    preds1_np = preds1.flatten().cpu().numpy()\n",
    "    preds2_np = preds2.flatten().cpu().numpy()\n",
    "\n",
    "    # Stack both tensors for visualization (rows: model versions, columns: positions)\n",
    "    data = np.vstack([preds1_np, preds2_np])\n",
    "\n",
    "    # Create categorical colormap (e.g., 'tab10' for 10 distinct categories, 'Set3' for more)\n",
    "    unique_values = np.unique(data)  # Get unique argmax values\n",
    "    palette = sns.color_palette(\"tab10\", n_colors=len(unique_values))  # Generate categorical colors\n",
    "    lut = dict(zip(unique_values, palette))  # Map each unique value to a color\n",
    "    data_colors = np.vectorize(lut.get)(data)  # Convert data values to colors\n",
    "\n",
    "    # Create heatmap\n",
    "    plt.figure(figsize=(12, 3))  # Wide and short for large tensors\n",
    "    sns.heatmap(data, cmap=palette, cbar=True, xticklabels=500, yticklabels=[\"Model 1\", \"Model 2\"])\n",
    "\n",
    "    # Labels and Title\n",
    "    plt.xlabel(\"Position in Tensor\")\n",
    "    plt.ylabel(\"Model Version\")\n",
    "    plt.title(title)\n",
    "\n",
    "    plt.show()\n"
   ]
  },
  {
   "cell_type": "markdown",
   "id": "6dec564d-b260-4fb2-974b-65f9d9e26c2f",
   "metadata": {},
   "source": [
    "### Compare Argmax of logits to each other"
   ]
  },
  {
   "cell_type": "code",
   "execution_count": 21,
   "id": "8184ae38-79a5-4ce0-8a2a-b41985935058",
   "metadata": {},
   "outputs": [
    {
     "data": {
      "text/plain": [
       "tensor([67, 84, 84,  ..., 67, 65, 67], device='cuda:0')"
      ]
     },
     "execution_count": 21,
     "metadata": {},
     "output_type": "execute_result"
    }
   ],
   "source": [
    "logits[0][0].argmax(dim=-1)"
   ]
  },
  {
   "cell_type": "code",
   "execution_count": 24,
   "id": "15f1774e-4587-47de-83bf-76ae4aa873a9",
   "metadata": {},
   "outputs": [
    {
     "data": {
      "text/plain": [
       "tensor([71, 84, 84,  ..., 84, 84, 84])"
      ]
     },
     "execution_count": 24,
     "metadata": {},
     "output_type": "execute_result"
    }
   ],
   "source": [
    "selected_preds_jf['token_logits'][0].argmax(dim=-1)"
   ]
  },
  {
   "cell_type": "code",
   "execution_count": 76,
   "id": "b4cfb6a2-bc0f-4bf5-a0ac-3f257d8cf3c0",
   "metadata": {},
   "outputs": [],
   "source": [
    "logits_evo2_1 = logits[0][0].argmax(dim=-1)\n",
    "logits_bionemo_1 = selected_preds_jf['token_logits'][0].argmax(dim=-1)\n",
    "\n",
    "logits_evo2_2 = logits[0][1].argmax(dim=-1)\n",
    "logits_bionemo_2 = selected_preds_jf['token_logits'][1].argmax(dim=-1)"
   ]
  },
  {
   "cell_type": "code",
   "execution_count": 77,
   "id": "613b0fe7-dd80-48ca-bff4-58b4d20575b2",
   "metadata": {},
   "outputs": [
    {
     "name": "stdout",
     "output_type": "stream",
     "text": [
      "Percent logits same: Sequence 1: 0.3221435546875\n"
     ]
    },
    {
     "data": {
      "image/png": "[encoded data removed]",
      "text/plain": [
       "<Figure size 1200x300 with 2 Axes>"
      ]
     },
     "metadata": {},
     "output_type": "display_data"
    }
   ],
   "source": [
    "print(f\"Percent logits same: Sequence 1: {(torch.sum(logits_evo2_1.cpu() == logits_bionemo_1.cpu()) / 8192.).item()}\")\n",
    "categorical_heatmap_comparison(logits_evo2_1, logits_bionemo_1, title=\"Heatmap of Model Argmax Predictions Sequence 1\")"
   ]
  },
  {
   "cell_type": "code",
   "execution_count": 78,
   "id": "a1469b76-e9b2-4f40-9c4c-bfded7d65520",
   "metadata": {},
   "outputs": [
    {
     "name": "stdout",
     "output_type": "stream",
     "text": [
      "Percent logits same: Sequence 2: 0.3206787109375\n"
     ]
    },
    {
     "data": {
      "image/png": "[encoded data removed]",
      "text/plain": [
       "<Figure size 1200x300 with 2 Axes>"
      ]
     },
     "metadata": {},
     "output_type": "display_data"
    }
   ],
   "source": [
    "print(f\"Percent logits same: Sequence 2: {(torch.sum(logits_evo2_2.cpu() == logits_bionemo_2.cpu()) / 8192.).item()}\")\n",
    "categorical_heatmap_comparison(logits_evo2_2, logits_bionemo_2, title=\"Heatmap of Model Argmax Predictions Sequence 2\")"
   ]
  },
  {
   "cell_type": "code",
   "execution_count": null,
   "id": "e5cc110c-145e-4eab-b205-3ea2f08aa76d",
   "metadata": {},
   "outputs": [],
   "source": []
  }
 ],
 "metadata": {
  "jupytext": {
   "cell_metadata_filter": "-all",
   "main_language": "python",
   "notebook_metadata_filter": "-all"
  },
  "kernelspec": {
   "display_name": "Python (evo2)",
   "language": "python",
   "name": "evo2"
  },
  "language_info": {
   "codemirror_mode": {
    "name": "ipython",
    "version": 3
   },
   "file_extension": ".py",
   "mimetype": "text/x-python",
   "name": "python",
   "nbconvert_exporter": "python",
   "pygments_lexer": "ipython3",
   "version": "3.11.11"
  }
 },
 "nbformat": 4,
 "nbformat_minor": 5
}
