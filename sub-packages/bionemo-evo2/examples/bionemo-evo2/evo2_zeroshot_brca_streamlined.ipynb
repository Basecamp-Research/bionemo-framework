{
 "cells": [
  {
   "cell_type": "markdown",
   "metadata": {},
   "source": [
    "# Zero-shot prediction of BRCA1 variant effects with Evo 2\n",
    "Deploy this tutorial on brev.dev: \n",
    "[![ Click here to deploy.](https://brev-assets.s3.us-west-1.amazonaws.com/nv-lb-dark.svg)](https://console.brev.dev/launchable/deploy?launchableID=env-2txDJ6aPPhIYK1iLhsYFlWfPQRP)\n",
    "\n",
    "*Note - this notebook is a reproduction of The Arc Institute’s same-titled notebook [here](https://github.com/ArcInstitute/evo2/blob/main/notebooks/brca1/brca1_zero_shot_vep.ipynb), using the BioNeMo 2 implementation of Evo2.*\n",
    "\n",
    "The human *BRCA1* gene encodes for a protein that repairs damaged DNA ([Moynahan et al., 1999](https://www.cell.com/molecular-cell/fulltext/S1097-2765%2800%2980202-6)). Certain variants of this gene have been associated with an increased risk of breast and ovarian cancers ([Miki et al., 1994](https://www.science.org/doi/10.1126/science.7545954?url_ver=Z39.88-2003&rfr_id=ori:rid:crossref.org&rfr_dat=cr_pub%20%200pubmed)). Using Evo 2, we can predict whether a particular single nucleotide variant (SNV) of the *BRCA1* gene is likely to be harmful to the protein's function, and thus potentially increase the risk of cancer for the patient with the genetic variant."
   ]
  },
  {
   "cell_type": "code",
   "execution_count": 1,
   "metadata": {},
   "outputs": [],
   "source": [
    "%%capture\n",
    "!pip install biopython openpyxl quak\n",
    "\n",
    "import glob\n",
    "import gzip\n",
    "import json\n",
    "import math\n",
    "import os\n",
    "from pathlib import Path\n",
    "\n",
    "import pandas as pd\n",
    "import torch\n",
    "import quak\n",
    "from Bio import SeqIO\n",
    "from sklearn.metrics import roc_auc_score\n",
    "\n",
    "from brca1_utils import (\n",
    "    check_fp8_support,\n",
    "    download_data,\n",
    "    generate_fasta_files,\n",
    "    load_brca1_data,\n",
    "    load_genome_sequence,\n",
    "    plot_roc_curve,\n",
    "    plot_strip_with_means,\n",
    "    sample_data,\n",
    ")\n"
   ]
  },
  {
   "cell_type": "markdown",
   "metadata": {},
   "source": [
    "We start by loading a dataset from [Findlay et al. (2018)](https://www.nature.com/articles/s41586-018-0461-z), which contains experimentally measured function scores of 3,893 *BRCA1* SNVs. These function scores reflect the extent by which the genetic variant has disrupted the protein's function, with lower scores indicating greater disruption. In this dataset, the SNVs are classified into three categories based on their function scores: `LOF` (loss-of-function), `INT` (intermediate), and `FUNC` (functional). We start by reading in this dataset.\n",
    "\n",
    "To keep the notebook streamlined, we've abstracted much of the preprocessing logic into accompanying scripts located in `brca1_utils`. The full notebook can be viewed [here](https://github.com/NVIDIA/bionemo-framework/blob/main/docs/docs/user-guide/examples/bionemo-evo2/evo2_zeroshot_brca.ipynb)."
   ]
  },
  {
   "cell_type": "code",
   "execution_count": 2,
   "metadata": {},
   "outputs": [],
   "source": [
    "# Configuration parameters\n",
    "DATA_DIR = 'brca1'\n",
    "SAMPLE_CONFIG = {\n",
    "    'sample_frac': 0.05,\n",
    "    'balanced': True,\n",
    "    'disable': False,\n",
    "    'random_state': 42\n",
    "}\n",
    "\n",
    "# 1. Download the necessary data files if not present\n",
    "excel_path, genome_path = download_data(DATA_DIR)\n",
    "seq_chr17 = load_genome_sequence(genome_path)\n",
    "\n",
    "# 2. Load and preprocess BRCA1 data\n",
    "brca1_df = load_brca1_data(excel_path)\n"
   ]
  },
  {
   "cell_type": "markdown",
   "metadata": {},
   "source": [
    "We then group the `FUNC` and `INT` classes of SNVs together into a single category (`FUNC/INT`).\n",
    "\n"
   ]
  },
  {
   "cell_type": "markdown",
   "metadata": {},
   "source": [
    "We build a function to parse the reference and variant sequences of a 8,192-bp window around the genomic position of each SNV, using the reference sequence of human chromosome 17 where *BRCA1* is located.\n",
    "\n"
   ]
  },
  {
   "cell_type": "markdown",
   "metadata": {},
   "source": [
    "To make things run faster, we'll just look at a balanced sample of our data. If you want to run on the full dataset, set `disable_sample=True`"
   ]
  },
  {
   "cell_type": "code",
   "execution_count": 3,
   "metadata": {},
   "outputs": [
    {
     "data": {
      "text/html": [
       "<div>\n",
       "<style scoped>\n",
       "    .dataframe tbody tr th:only-of-type {\n",
       "        vertical-align: middle;\n",
       "    }\n",
       "\n",
       "    .dataframe tbody tr th {\n",
       "        vertical-align: top;\n",
       "    }\n",
       "\n",
       "    .dataframe thead th {\n",
       "        text-align: right;\n",
       "    }\n",
       "</style>\n",
       "<table border=\"1\" class=\"dataframe\">\n",
       "  <thead>\n",
       "    <tr style=\"text-align: right;\">\n",
       "      <th></th>\n",
       "      <th>chrom</th>\n",
       "      <th>pos</th>\n",
       "      <th>ref</th>\n",
       "      <th>alt</th>\n",
       "      <th>score</th>\n",
       "      <th>class</th>\n",
       "    </tr>\n",
       "  </thead>\n",
       "  <tbody>\n",
       "    <tr>\n",
       "      <th>0</th>\n",
       "      <td>17</td>\n",
       "      <td>41199726</td>\n",
       "      <td>T</td>\n",
       "      <td>C</td>\n",
       "      <td>0.159762</td>\n",
       "      <td>FUNC/INT</td>\n",
       "    </tr>\n",
       "    <tr>\n",
       "      <th>1</th>\n",
       "      <td>17</td>\n",
       "      <td>41209074</td>\n",
       "      <td>T</td>\n",
       "      <td>A</td>\n",
       "      <td>-2.065569</td>\n",
       "      <td>LOF</td>\n",
       "    </tr>\n",
       "    <tr>\n",
       "      <th>2</th>\n",
       "      <td>17</td>\n",
       "      <td>41256913</td>\n",
       "      <td>A</td>\n",
       "      <td>C</td>\n",
       "      <td>-0.847753</td>\n",
       "      <td>FUNC/INT</td>\n",
       "    </tr>\n",
       "    <tr>\n",
       "      <th>3</th>\n",
       "      <td>17</td>\n",
       "      <td>41219631</td>\n",
       "      <td>T</td>\n",
       "      <td>A</td>\n",
       "      <td>-2.053739</td>\n",
       "      <td>LOF</td>\n",
       "    </tr>\n",
       "    <tr>\n",
       "      <th>4</th>\n",
       "      <td>17</td>\n",
       "      <td>41215965</td>\n",
       "      <td>G</td>\n",
       "      <td>A</td>\n",
       "      <td>-1.671525</td>\n",
       "      <td>LOF</td>\n",
       "    </tr>\n",
       "  </tbody>\n",
       "</table>\n",
       "</div>"
      ],
      "text/plain": [
       "   chrom       pos ref alt     score     class\n",
       "0     17  41199726   T   C  0.159762  FUNC/INT\n",
       "1     17  41209074   T   A -2.065569       LOF\n",
       "2     17  41256913   A   C -0.847753  FUNC/INT\n",
       "3     17  41219631   T   A -2.053739       LOF\n",
       "4     17  41215965   G   A -1.671525       LOF"
      ]
     },
     "execution_count": 3,
     "metadata": {},
     "output_type": "execute_result"
    }
   ],
   "source": [
    "OUTPUT_DIR = \"brca1_fasta_files\"\n",
    "\n",
    "brca1_df = sample_data(\n",
    "    brca1_df, \n",
    "    sample_frac=SAMPLE_CONFIG['sample_frac'],\n",
    "    balanced=SAMPLE_CONFIG['balanced'],\n",
    "    disable=SAMPLE_CONFIG['disable'],\n",
    "    random_state=SAMPLE_CONFIG['random_state']\n",
    ")\n",
    "\n",
    "brca1_df.head(5)\n"
   ]
  },
  {
   "cell_type": "markdown",
   "metadata": {},
   "source": [
    "Next, we'll write these to local `.fasta` files so we can use them for prediction below."
   ]
  },
  {
   "cell_type": "code",
   "execution_count": 4,
   "metadata": {},
   "outputs": [
    {
     "name": "stdout",
     "output_type": "stream",
     "text": [
      "Total unique reference sequences: 79\n",
      "Total unique variant sequences: 84\n"
     ]
    }
   ],
   "source": [
    "brca1_df = generate_fasta_files(\n",
    "    brca1_df, \n",
    "    seq_chr17, \n",
    "    output_dir=OUTPUT_DIR\n",
    ")"
   ]
  },
  {
   "cell_type": "markdown",
   "metadata": {},
   "source": [
    "### Load Evo 2 Checkpoints"
   ]
  },
  {
   "cell_type": "markdown",
   "metadata": {},
   "source": [
    "\n",
    "Then, we load Evo 2 1B model, loading the Evo 2 weights from hugging face.\n",
    "\n",
    "*Note - for better performance, load the 7b model by setting `MODEL_SIZE=\"7b\"` which also works well GPUs that do not support FP8.*\n",
    "\n"
   ]
  },
  {
   "cell_type": "code",
   "execution_count": 5,
   "metadata": {},
   "outputs": [
    {
     "name": "stdout",
     "output_type": "stream",
     "text": [
      "Checkpoint directory is not empty. Skipping command.\n"
     ]
    }
   ],
   "source": [
    "MODEL_SIZE = \"1b\"  # also try 7b if you have a GPU with more than 32GB of memory\n",
    "# Define checkpoint path\n",
    "checkpoint_path = Path(f\"nemo2_evo2_{MODEL_SIZE}_8k\")\n",
    "\n",
    "# Check if the directory does not exist or is empty\n",
    "if not checkpoint_path.exists() or not any(checkpoint_path.iterdir()):\n",
    "    !evo2_convert_to_nemo2 --model-path hf://arcinstitute/savanna_evo2_{MODEL_SIZE}_base --model-size {MODEL_SIZE} --output-dir nemo2_evo2_{MODEL_SIZE}_8k\n",
    "else:\n",
    "    print(\"Checkpoint directory is not empty. Skipping command.\")\n"
   ]
  },
  {
   "cell_type": "markdown",
   "metadata": {},
   "source": [
    "### Score Sequences"
   ]
  },
  {
   "cell_type": "markdown",
   "metadata": {},
   "source": [
    "Next, we score the likelihoods of the reference and variant sequences of each SNV.\n"
   ]
  },
  {
   "cell_type": "code",
   "execution_count": 6,
   "metadata": {},
   "outputs": [
    {
     "name": "stdout",
     "output_type": "stream",
     "text": [
      "FP8 Support: True\n",
      "Device: NVIDIA RTX 5880 Ada Generation, Compute Capability: 8.9\n"
     ]
    }
   ],
   "source": [
    "# Define output directories for prediction results\n",
    "output_dir = Path(\"brca1_fasta_files\")\n",
    "output_dir.mkdir(parents=True, exist_ok=True)\n",
    "\n",
    "# Save reference and variant sequences to FASTA\n",
    "ref_fasta_path = output_dir / \"brca1_reference_sequences.fasta\"\n",
    "var_fasta_path = output_dir / \"brca1_variant_sequences.fasta\"\n",
    "\n",
    "predict_ref_dir = output_dir / \"reference_predictions\"\n",
    "predict_var_dir = output_dir / \"variant_predictions\"\n",
    "predict_ref_dir.mkdir(parents=True, exist_ok=True)\n",
    "predict_var_dir.mkdir(parents=True, exist_ok=True)\n",
    "\n",
    "fp8_supported, gpu_info = check_fp8_support()\n",
    "print(f\"FP8 Support: {fp8_supported}\")\n",
    "print(gpu_info)\n",
    "\n",
    "# Note: If FP8 is not supported, you may want to disable it in the model config\n",
    "# The Evo2 config has 'use_fp8_input_projections: True' by default\n",
    "\n",
    "fp8_option = \"--fp8\" if fp8_supported else \"\"\n",
    "\n",
    "# Update predict commands to run on the full dataset\n",
    "predict_ref_command = (\n",
    "    f\"predict_evo2 --fasta {ref_fasta_path} --ckpt-dir {checkpoint_path} \"\n",
    "    f\"--output-dir {predict_ref_dir} --model-size {MODEL_SIZE} --tensor-parallel-size 1 \"\n",
    "    f\"--pipeline-model-parallel-size 1 --context-parallel-size 1 --output-log-prob-seqs {fp8_option}\"\n",
    ")\n",
    "\n",
    "predict_var_command = (\n",
    "    f\"predict_evo2 --fasta {var_fasta_path} --ckpt-dir {checkpoint_path} \"\n",
    "    f\"--output-dir {predict_var_dir} --model-size {MODEL_SIZE} --tensor-parallel-size 1 \"\n",
    "    f\"--pipeline-model-parallel-size 1 --context-parallel-size 1 --output-log-prob-seqs {fp8_option}\"\n",
    ")"
   ]
  },
  {
   "cell_type": "markdown",
   "metadata": {},
   "source": [
    "Score reference sequences:"
   ]
  },
  {
   "cell_type": "code",
   "execution_count": 7,
   "metadata": {},
   "outputs": [],
   "source": [
    "%%capture\n",
    "print(f\"Running command: {predict_ref_command}\")\n",
    "!{predict_ref_command}"
   ]
  },
  {
   "cell_type": "markdown",
   "metadata": {},
   "source": [
    "Score variant sequences:"
   ]
  },
  {
   "cell_type": "code",
   "execution_count": 8,
   "metadata": {},
   "outputs": [],
   "source": [
    "%%capture\n",
    "print(f\"Running command: {predict_var_command}\")\n",
    "!{predict_var_command}"
   ]
  },
  {
   "cell_type": "markdown",
   "metadata": {},
   "source": [
    "We calculate the change in likelihoods for each variant relative to the likelihood of their respective wild-type sequence.\n",
    "\n"
   ]
  },
  {
   "cell_type": "markdown",
   "metadata": {},
   "source": [
    "First, we load the prediction files and sequence id maps:"
   ]
  },
  {
   "cell_type": "code",
   "execution_count": 9,
   "metadata": {},
   "outputs": [],
   "source": [
    "# Find and load prediction files\n",
    "ref_pred_files = glob.glob(os.path.join(predict_ref_dir, \"predictions__rank_*.pt\"))\n",
    "var_pred_files = glob.glob(os.path.join(predict_var_dir, \"predictions__rank_*.pt\"))\n",
    "\n",
    "# Load sequence ID maps (maps sequence ID -> prediction index)\n",
    "with open(os.path.join(predict_ref_dir, \"seq_idx_map.json\"), \"r\") as f:\n",
    "    ref_seq_idx_map = json.load(f)\n",
    "with open(os.path.join(predict_var_dir, \"seq_idx_map.json\"), \"r\") as f:\n",
    "    var_seq_idx_map = json.load(f)\n",
    "\n",
    "# Load predictions\n",
    "ref_preds = torch.load(ref_pred_files[0])\n",
    "var_preds = torch.load(var_pred_files[0])"
   ]
  },
  {
   "cell_type": "markdown",
   "metadata": {},
   "source": [
    "Then, calculate the delta score:"
   ]
  },
  {
   "cell_type": "code",
   "execution_count": 10,
   "metadata": {},
   "outputs": [
    {
     "data": {
      "application/vnd.jupyter.widget-view+json": {
       "model_id": "e1c4f0912d86409cbaa1a6a42f1844cd",
       "version_major": 2,
       "version_minor": 1
      },
      "text/plain": [
       "Widget(sql='SELECT * FROM \"df\"')"
      ]
     },
     "execution_count": 10,
     "metadata": {},
     "output_type": "execute_result"
    }
   ],
   "source": [
    "# next, calculate change in likelihoods\n",
    "ref_log_probs = []\n",
    "var_log_probs = []\n",
    "for _, row in brca1_df.iterrows():\n",
    "    ref_name = row['ref_fasta_name']\n",
    "    var_name = row['var_fasta_name']\n",
    "    ref_log_probs.append(ref_preds['log_probs_seqs'][ref_seq_idx_map[ref_name]].item())\n",
    "    var_log_probs.append(var_preds['log_probs_seqs'][var_seq_idx_map[var_name]].item())\n",
    "brca1_df['ref_log_probs'] = ref_log_probs\n",
    "brca1_df['var_log_probs'] = var_log_probs\n",
    "# ideally probability of a broken variant is lower than a good one. So a bad var - good ref is negative.\n",
    "brca1_df['evo2_delta_score'] = brca1_df['var_log_probs'] - brca1_df['ref_log_probs']\n",
    "# brca1_df.head()\n",
    "quak.Widget(brca1_df)\n"
   ]
  },
  {
   "cell_type": "markdown",
   "metadata": {},
   "source": [
    "This delta likelihood should be predictive of how disruptive the SNV is to the protein's function: the lower the delta, the more likely that the SNV is disruptive. We can show this by comparing the distributions of delta likelihoods for the two classes of SNVs (functional/intermediate vs loss-of-function)."
   ]
  },
  {
   "cell_type": "code",
   "execution_count": 11,
   "metadata": {},
   "outputs": [
    {
     "data": {
      "text/html": [
       "\n",
       "<style>\n",
       "  #altair-viz-8609f6f143a9464fab4736b61ca2222f.vega-embed {\n",
       "    width: 100%;\n",
       "    display: flex;\n",
       "  }\n",
       "\n",
       "  #altair-viz-8609f6f143a9464fab4736b61ca2222f.vega-embed details,\n",
       "  #altair-viz-8609f6f143a9464fab4736b61ca2222f.vega-embed details summary {\n",
       "    position: relative;\n",
       "  }\n",
       "</style>\n",
       "<div id=\"altair-viz-8609f6f143a9464fab4736b61ca2222f\"></div>\n",
       "<script type=\"text/javascript\">\n",
       "  var VEGA_DEBUG = (typeof VEGA_DEBUG == \"undefined\") ? {} : VEGA_DEBUG;\n",
       "  (function(spec, embedOpt){\n",
       "    let outputDiv = document.currentScript.previousElementSibling;\n",
       "    if (outputDiv.id !== \"altair-viz-8609f6f143a9464fab4736b61ca2222f\") {\n",
       "      outputDiv = document.getElementById(\"altair-viz-8609f6f143a9464fab4736b61ca2222f\");\n",
       "    }\n",
       "\n",
       "    const paths = {\n",
       "      \"vega\": \"https://cdn.jsdelivr.net/npm/vega@5?noext\",\n",
       "      \"vega-lib\": \"https://cdn.jsdelivr.net/npm/vega-lib?noext\",\n",
       "      \"vega-lite\": \"https://cdn.jsdelivr.net/npm/vega-lite@5.20.1?noext\",\n",
       "      \"vega-embed\": \"https://cdn.jsdelivr.net/npm/vega-embed@6?noext\",\n",
       "    };\n",
       "\n",
       "    function maybeLoadScript(lib, version) {\n",
       "      var key = `${lib.replace(\"-\", \"\")}_version`;\n",
       "      return (VEGA_DEBUG[key] == version) ?\n",
       "        Promise.resolve(paths[lib]) :\n",
       "        new Promise(function(resolve, reject) {\n",
       "          var s = document.createElement('script');\n",
       "          document.getElementsByTagName(\"head\")[0].appendChild(s);\n",
       "          s.async = true;\n",
       "          s.onload = () => {\n",
       "            VEGA_DEBUG[key] = version;\n",
       "            return resolve(paths[lib]);\n",
       "          };\n",
       "          s.onerror = () => reject(`Error loading script: ${paths[lib]}`);\n",
       "          s.src = paths[lib];\n",
       "        });\n",
       "    }\n",
       "\n",
       "    function showError(err) {\n",
       "      outputDiv.innerHTML = `<div class=\"error\" style=\"color:red;\">${err}</div>`;\n",
       "      throw err;\n",
       "    }\n",
       "\n",
       "    function displayChart(vegaEmbed) {\n",
       "      vegaEmbed(outputDiv, spec, embedOpt)\n",
       "        .catch(err => showError(`Javascript Error: ${err.message}<br>This usually means there's a typo in your chart specification. See the javascript console for the full traceback.`));\n",
       "    }\n",
       "\n",
       "    if(typeof define === \"function\" && define.amd) {\n",
       "      requirejs.config({paths});\n",
       "      let deps = [\"vega-embed\"];\n",
       "      require(deps, displayChart, err => showError(`Error loading script: ${err.message}`));\n",
       "    } else {\n",
       "      maybeLoadScript(\"vega\", \"5\")\n",
       "        .then(() => maybeLoadScript(\"vega-lite\", \"5.20.1\"))\n",
       "        .then(() => maybeLoadScript(\"vega-embed\", \"6\"))\n",
       "        .catch(showError)\n",
       "        .then(() => displayChart(vegaEmbed));\n",
       "    }\n",
       "  })({\"config\": {\"view\": {\"continuousWidth\": 300, \"continuousHeight\": 300}, \"axis\": {\"grid\": true, \"gridColor\": \"#DDDDDD\"}}, \"layer\": [{\"data\": {\"name\": \"data-add2d4936ebd6ed81c27edd39d1f62a6\"}, \"mark\": {\"type\": \"circle\", \"opacity\": 0.6, \"size\": 20}, \"encoding\": {\"color\": {\"field\": \"class\", \"scale\": {\"domain\": [\"FUNC/INT\", \"LOF\"], \"range\": [\"red\", \"#76B900\"]}, \"type\": \"nominal\"}, \"tooltip\": [{\"field\": \"evo2_delta_score\", \"type\": \"quantitative\"}, {\"field\": \"class\", \"type\": \"nominal\"}], \"x\": {\"axis\": {\"gridColor\": \"#DDDDDD\", \"labelColor\": \"#333333\", \"titleColor\": \"#333333\"}, \"field\": \"evo2_delta_score\", \"title\": \"Delta Likelihood Score, Evo 2\", \"type\": \"quantitative\"}, \"y\": {\"axis\": null, \"field\": \"jitter\", \"title\": \"BRCA1 SNV Class\", \"type\": \"quantitative\"}}}, {\"data\": {\"name\": \"data-fbfd09e7f896a36f53d071bfdfc62798\"}, \"mark\": {\"type\": \"rule\", \"opacity\": 0.8, \"strokeWidth\": 4}, \"encoding\": {\"color\": {\"value\": \"black\"}, \"x\": {\"field\": \"evo2_delta_score\", \"type\": \"quantitative\"}, \"y\": {\"field\": \"y_start\", \"type\": \"quantitative\"}, \"y2\": {\"field\": \"y_end\"}}}], \"background\": \"#F8F8F8\", \"height\": 250, \"title\": {\"text\": \"Distribution of Delta Likelihoods Scores\", \"anchor\": \"start\", \"color\": \"#333333\", \"fontSize\": 16, \"subtitle\": \"Comparing Evo 2 likelihood scores for different BRCA1 SNV classes.\", \"subtitleFontSize\": 14}, \"width\": 450, \"$schema\": \"https://vega.github.io/schema/vega-lite/v5.20.1.json\", \"datasets\": {\"data-add2d4936ebd6ed81c27edd39d1f62a6\": [{\"chrom\": 17, \"pos\": 41199726, \"ref\": \"T\", \"alt\": \"C\", \"score\": 0.159761523246409, \"class\": \"FUNC/INT\", \"ref_fasta_name\": \"BRCA1_ref_pos_41199726_T_class_FUNC/INT\", \"var_fasta_name\": \"BRCA1_var_pos_41199726_TtoC_class_FUNC/INT\", \"ref_log_probs\": -0.9529610872268677, \"var_log_probs\": -0.9535168409347534, \"evo2_delta_score\": -0.0005557537078857422, \"jitter\": 0.004794397380604387}, {\"chrom\": 17, \"pos\": 41209074, \"ref\": \"T\", \"alt\": \"A\", \"score\": -2.06556899007562, \"class\": \"LOF\", \"ref_fasta_name\": \"BRCA1_ref_pos_41209074_T_class_LOF\", \"var_fasta_name\": \"BRCA1_var_pos_41209074_TtoA_class_LOF\", \"ref_log_probs\": -0.7510519027709961, \"var_log_probs\": -0.7510629892349243, \"evo2_delta_score\": -1.1086463928222656e-05, \"jitter\": 1.0023965228933303}, {\"chrom\": 17, \"pos\": 41256913, \"ref\": \"A\", \"alt\": \"C\", \"score\": -0.847753322261413, \"class\": \"FUNC/INT\", \"ref_fasta_name\": \"BRCA1_ref_pos_41256913_A_class_FUNC/INT\", \"var_fasta_name\": \"BRCA1_var_pos_41256913_AtoC_class_FUNC/INT\", \"ref_log_probs\": -0.7956212162971497, \"var_log_probs\": -0.7971920967102051, \"evo2_delta_score\": -0.00157088041305542, \"jitter\": 0.13059704399365163}, {\"chrom\": 17, \"pos\": 41219631, \"ref\": \"T\", \"alt\": \"A\", \"score\": -2.0537387666319, \"class\": \"LOF\", \"ref_fasta_name\": \"BRCA1_ref_pos_41219631_T_class_LOF\", \"var_fasta_name\": \"BRCA1_var_pos_41219631_TtoA_class_LOF\", \"ref_log_probs\": -1.0331159830093384, \"var_log_probs\": -1.0334069728851318, \"evo2_delta_score\": -0.00029098987579345703, \"jitter\": 1.0442325234563192}, {\"chrom\": 17, \"pos\": 41215965, \"ref\": \"G\", \"alt\": \"A\", \"score\": -1.67152473037458, \"class\": \"LOF\", \"ref_fasta_name\": \"BRCA1_ref_pos_41215965_G_class_LOF\", \"var_fasta_name\": \"BRCA1_var_pos_41215965_GtoA_class_LOF\", \"ref_log_probs\": -0.8597186803817749, \"var_log_probs\": -0.8603928089141846, \"evo2_delta_score\": -0.000674128532409668, \"jitter\": 1.0215839049926678}, {\"chrom\": 17, \"pos\": 41223001, \"ref\": \"C\", \"alt\": \"G\", \"score\": 0.288594316318101, \"class\": \"FUNC/INT\", \"ref_fasta_name\": \"BRCA1_ref_pos_41223001_C_class_FUNC/INT\", \"var_fasta_name\": \"BRCA1_var_pos_41223001_CtoG_class_FUNC/INT\", \"ref_log_probs\": -0.9319332838058472, \"var_log_probs\": -0.9321175217628479, \"evo2_delta_score\": -0.00018423795700073242, \"jitter\": -0.11016778202769817}, {\"chrom\": 17, \"pos\": 41197728, \"ref\": \"G\", \"alt\": \"C\", \"score\": -2.15111921617674, \"class\": \"LOF\", \"ref_fasta_name\": \"BRCA1_ref_pos_41197728_G_class_LOF\", \"var_fasta_name\": \"BRCA1_var_pos_41197728_GtoC_class_LOF\", \"ref_log_probs\": -0.9991159439086914, \"var_log_probs\": -1.000749945640564, \"evo2_delta_score\": -0.0016340017318725586, \"jitter\": 0.9765518477291812}, {\"chrom\": 17, \"pos\": 41201191, \"ref\": \"G\", \"alt\": \"A\", \"score\": -1.62290738466627, \"class\": \"LOF\", \"ref_fasta_name\": \"BRCA1_ref_pos_41201191_G_class_LOF\", \"var_fasta_name\": \"BRCA1_var_pos_41201191_GtoA_class_LOF\", \"ref_log_probs\": -0.937981367111206, \"var_log_probs\": -0.9403709173202515, \"evo2_delta_score\": -0.00238955020904541, \"jitter\": 0.9469906409871878}, {\"chrom\": 17, \"pos\": 41223019, \"ref\": \"C\", \"alt\": \"A\", \"score\": -2.44516415626039, \"class\": \"LOF\", \"ref_fasta_name\": \"BRCA1_ref_pos_41223019_C_class_LOF\", \"var_fasta_name\": \"BRCA1_var_pos_41223019_CtoA_class_LOF\", \"ref_log_probs\": -0.9324682950973511, \"var_log_probs\": -0.9332839846611023, \"evo2_delta_score\": -0.0008156895637512207, \"jitter\": 0.9195505629498564}, {\"chrom\": 17, \"pos\": 41199693, \"ref\": \"G\", \"alt\": \"T\", \"score\": -0.0747085351851316, \"class\": \"FUNC/INT\", \"ref_fasta_name\": \"BRCA1_ref_pos_41199693_G_class_FUNC/INT\", \"var_fasta_name\": \"BRCA1_var_pos_41199693_GtoT_class_FUNC/INT\", \"ref_log_probs\": -0.9575228095054626, \"var_log_probs\": -0.95747309923172, \"evo2_delta_score\": 4.971027374267578e-05, \"jitter\": -0.05306782774644828}, {\"chrom\": 17, \"pos\": 41276065, \"ref\": \"C\", \"alt\": \"G\", \"score\": -2.8798217378467, \"class\": \"LOF\", \"ref_fasta_name\": \"BRCA1_ref_pos_41276065_C_class_LOF\", \"var_fasta_name\": \"BRCA1_var_pos_41276065_CtoG_class_LOF\", \"ref_log_probs\": -0.9430234432220459, \"var_log_probs\": -0.9431177377700806, \"evo2_delta_score\": -9.429454803466797e-05, \"jitter\": 1.085153646360565}, {\"chrom\": 17, \"pos\": 41215978, \"ref\": \"G\", \"alt\": \"T\", \"score\": -0.542197571902336, \"class\": \"FUNC/INT\", \"ref_fasta_name\": \"BRCA1_ref_pos_41215978_G_class_FUNC/INT\", \"var_fasta_name\": \"BRCA1_var_pos_41215978_GtoT_class_FUNC/INT\", \"ref_log_probs\": -0.8581492304801941, \"var_log_probs\": -0.8583565950393677, \"evo2_delta_score\": -0.00020736455917358398, \"jitter\": -0.1107245355172571}, {\"chrom\": 17, \"pos\": 41215352, \"ref\": \"C\", \"alt\": \"A\", \"score\": -2.26234030610252, \"class\": \"LOF\", \"ref_fasta_name\": \"BRCA1_ref_pos_41215352_C_class_LOF\", \"var_fasta_name\": \"BRCA1_var_pos_41215352_CtoA_class_LOF\", \"ref_log_probs\": -0.8486689329147339, \"var_log_probs\": -0.8538677096366882, \"evo2_delta_score\": -0.005198776721954346, \"jitter\": 0.9824785418096229}, {\"chrom\": 17, \"pos\": 41256910, \"ref\": \"A\", \"alt\": \"C\", \"score\": -0.880529146014121, \"class\": \"FUNC/INT\", \"ref_fasta_name\": \"BRCA1_ref_pos_41256910_A_class_FUNC/INT\", \"var_fasta_name\": \"BRCA1_var_pos_41256910_AtoC_class_FUNC/INT\", \"ref_log_probs\": -0.7954828143119812, \"var_log_probs\": -0.7956792116165161, \"evo2_delta_score\": -0.0001963973045349121, \"jitter\": -0.045436847085744116}, {\"chrom\": 17, \"pos\": 41215960, \"ref\": \"A\", \"alt\": \"T\", \"score\": -1.02976164047738, \"class\": \"FUNC/INT\", \"ref_fasta_name\": \"BRCA1_ref_pos_41215960_A_class_FUNC/INT\", \"var_fasta_name\": \"BRCA1_var_pos_41215960_AtoT_class_FUNC/INT\", \"ref_log_probs\": -0.8607425093650818, \"var_log_probs\": -0.8617956042289734, \"evo2_delta_score\": -0.0010530948638916016, \"jitter\": 0.0797764449009909}, {\"chrom\": 17, \"pos\": 41215324, \"ref\": \"G\", \"alt\": \"A\", \"score\": -0.151265455630134, \"class\": \"FUNC/INT\", \"ref_fasta_name\": \"BRCA1_ref_pos_41215324_G_class_FUNC/INT\", \"var_fasta_name\": \"BRCA1_var_pos_41215324_GtoA_class_FUNC/INT\", \"ref_log_probs\": -0.8469617962837219, \"var_log_probs\": -0.8469608426094055, \"evo2_delta_score\": 9.5367431640625e-07, \"jitter\": -0.03538296145214254}, {\"chrom\": 17, \"pos\": 41258545, \"ref\": \"C\", \"alt\": \"T\", \"score\": -1.67798334117485, \"class\": \"LOF\", \"ref_fasta_name\": \"BRCA1_ref_pos_41258545_C_class_LOF\", \"var_fasta_name\": \"BRCA1_var_pos_41258545_CtoT_class_LOF\", \"ref_log_probs\": -0.8509225249290466, \"var_log_probs\": -0.8532120585441589, \"evo2_delta_score\": -0.0022895336151123047, \"jitter\": 0.8990727322601861}, {\"chrom\": 17, \"pos\": 41276066, \"ref\": \"A\", \"alt\": \"G\", \"score\": 0.0634310486770521, \"class\": \"FUNC/INT\", \"ref_fasta_name\": \"BRCA1_ref_pos_41276066_A_class_FUNC/INT\", \"var_fasta_name\": \"BRCA1_var_pos_41276066_AtoG_class_FUNC/INT\", \"ref_log_probs\": -0.9429791569709778, \"var_log_probs\": -0.9432291984558105, \"evo2_delta_score\": -0.00025004148483276367, \"jitter\": 0.09084981601535087}, {\"chrom\": 17, \"pos\": 41215965, \"ref\": \"G\", \"alt\": \"C\", \"score\": -1.02195909114583, \"class\": \"FUNC/INT\", \"ref_fasta_name\": \"BRCA1_ref_pos_41215965_G_class_LOF\", \"var_fasta_name\": \"BRCA1_var_pos_41215965_GtoC_class_FUNC/INT\", \"ref_log_probs\": -0.8597186803817749, \"var_log_probs\": -0.8613374829292297, \"evo2_delta_score\": -0.001618802547454834, \"jitter\": -0.14976944118211313}, {\"chrom\": 17, \"pos\": 41215403, \"ref\": \"T\", \"alt\": \"G\", \"score\": 0.285329917392038, \"class\": \"FUNC/INT\", \"ref_fasta_name\": \"BRCA1_ref_pos_41215403_T_class_FUNC/INT\", \"var_fasta_name\": \"BRCA1_var_pos_41215403_TtoG_class_FUNC/INT\", \"ref_log_probs\": -0.8479984998703003, \"var_log_probs\": -0.8476088047027588, \"evo2_delta_score\": 0.0003896951675415039, \"jitter\": 0.032577762831774604}, {\"chrom\": 17, \"pos\": 41256882, \"ref\": \"T\", \"alt\": \"A\", \"score\": -2.0060185938837, \"class\": \"LOF\", \"ref_fasta_name\": \"BRCA1_ref_pos_41256882_T_class_LOF\", \"var_fasta_name\": \"BRCA1_var_pos_41256882_TtoA_class_LOF\", \"ref_log_probs\": -0.7968376874923706, \"var_log_probs\": -0.7993878126144409, \"evo2_delta_score\": -0.0025501251220703125, \"jitter\": 1.1264443989962976}, {\"chrom\": 17, \"pos\": 41219705, \"ref\": \"A\", \"alt\": \"T\", \"score\": -1.72003404972147, \"class\": \"LOF\", \"ref_fasta_name\": \"BRCA1_ref_pos_41219705_A_class_LOF\", \"var_fasta_name\": \"BRCA1_var_pos_41219705_AtoT_class_LOF\", \"ref_log_probs\": -1.0253379344940186, \"var_log_probs\": -1.0256091356277466, \"evo2_delta_score\": -0.00027120113372802734, \"jitter\": 1.0020020236229383}, {\"chrom\": 17, \"pos\": 41258545, \"ref\": \"C\", \"alt\": \"A\", \"score\": -1.96017875677391, \"class\": \"LOF\", \"ref_fasta_name\": \"BRCA1_ref_pos_41258545_C_class_LOF\", \"var_fasta_name\": \"BRCA1_var_pos_41258545_CtoA_class_LOF\", \"ref_log_probs\": -0.8509225249290466, \"var_log_probs\": -0.8532106280326843, \"evo2_delta_score\": -0.0022881031036376953, \"jitter\": 0.873503743791969}, {\"chrom\": 17, \"pos\": 41203115, \"ref\": \"A\", \"alt\": \"G\", \"score\": -2.27267688131885, \"class\": \"LOF\", \"ref_fasta_name\": \"BRCA1_ref_pos_41203115_A_class_LOF\", \"var_fasta_name\": \"BRCA1_var_pos_41203115_AtoG_class_LOF\", \"ref_log_probs\": -0.9066231846809387, \"var_log_probs\": -0.9070537686347961, \"evo2_delta_score\": -0.0004305839538574219, \"jitter\": 0.9550407051595152}, {\"chrom\": 17, \"pos\": 41199729, \"ref\": \"C\", \"alt\": \"T\", \"score\": -2.64681551645418, \"class\": \"LOF\", \"ref_fasta_name\": \"BRCA1_ref_pos_41199729_C_class_LOF\", \"var_fasta_name\": \"BRCA1_var_pos_41199729_CtoT_class_LOF\", \"ref_log_probs\": -0.9523386359214783, \"var_log_probs\": -0.9530667066574097, \"evo2_delta_score\": -0.0007280707359313965, \"jitter\": 1.0562424001516815}, {\"chrom\": 17, \"pos\": 41258526, \"ref\": \"G\", \"alt\": \"A\", \"score\": -0.466477353956455, \"class\": \"FUNC/INT\", \"ref_fasta_name\": \"BRCA1_ref_pos_41258526_G_class_FUNC/INT\", \"var_fasta_name\": \"BRCA1_var_pos_41258526_GtoA_class_FUNC/INT\", \"ref_log_probs\": -0.8485271334648132, \"var_log_probs\": -0.8482608795166016, \"evo2_delta_score\": 0.0002662539482116699, \"jitter\": 0.008067226130493354}, {\"chrom\": 17, \"pos\": 41219701, \"ref\": \"G\", \"alt\": \"C\", \"score\": -2.07592550464515, \"class\": \"LOF\", \"ref_fasta_name\": \"BRCA1_ref_pos_41219701_G_class_LOF\", \"var_fasta_name\": \"BRCA1_var_pos_41219701_GtoC_class_LOF\", \"ref_log_probs\": -1.0259312391281128, \"var_log_probs\": -1.0261869430541992, \"evo2_delta_score\": -0.0002557039260864258, \"jitter\": 0.9082264479769078}, {\"chrom\": 17, \"pos\": 41276062, \"ref\": \"T\", \"alt\": \"G\", \"score\": -0.0617858138271981, \"class\": \"FUNC/INT\", \"ref_fasta_name\": \"BRCA1_ref_pos_41276062_T_class_FUNC/INT\", \"var_fasta_name\": \"BRCA1_var_pos_41276062_TtoG_class_FUNC/INT\", \"ref_log_probs\": -0.9436619281768799, \"var_log_probs\": -0.943432092666626, \"evo2_delta_score\": 0.00022983551025390625, \"jitter\": -0.050000540425730655}, {\"chrom\": 17, \"pos\": 41219713, \"ref\": \"C\", \"alt\": \"T\", \"score\": -1.95294374647629, \"class\": \"LOF\", \"ref_fasta_name\": \"BRCA1_ref_pos_41219713_C_class_LOF\", \"var_fasta_name\": \"BRCA1_var_pos_41219713_CtoT_class_LOF\", \"ref_log_probs\": -1.0239595174789429, \"var_log_probs\": -1.024556040763855, \"evo2_delta_score\": -0.0005965232849121094, \"jitter\": 1.0515833663350844}, {\"chrom\": 17, \"pos\": 41256899, \"ref\": \"T\", \"alt\": \"G\", \"score\": -3.0700093589234, \"class\": \"LOF\", \"ref_fasta_name\": \"BRCA1_ref_pos_41256899_T_class_LOF\", \"var_fasta_name\": \"BRCA1_var_pos_41256899_TtoG_class_LOF\", \"ref_log_probs\": -0.7961825728416443, \"var_log_probs\": -0.7965812683105469, \"evo2_delta_score\": -0.0003986954689025879, \"jitter\": 1.061647380259509}, {\"chrom\": 17, \"pos\": 41215403, \"ref\": \"T\", \"alt\": \"A\", \"score\": 0.0700318075125499, \"class\": \"FUNC/INT\", \"ref_fasta_name\": \"BRCA1_ref_pos_41215403_T_class_FUNC/INT\", \"var_fasta_name\": \"BRCA1_var_pos_41215403_TtoA_class_FUNC/INT\", \"ref_log_probs\": -0.8479984998703003, \"var_log_probs\": -0.8478689193725586, \"evo2_delta_score\": 0.00012958049774169922, \"jitter\": -0.0010527450101101342}, {\"chrom\": 17, \"pos\": 41258537, \"ref\": \"T\", \"alt\": \"C\", \"score\": -0.591419464744108, \"class\": \"FUNC/INT\", \"ref_fasta_name\": \"BRCA1_ref_pos_41258537_T_class_FUNC/INT\", \"var_fasta_name\": \"BRCA1_var_pos_41258537_TtoC_class_FUNC/INT\", \"ref_log_probs\": -0.8498784899711609, \"var_log_probs\": -0.8516379594802856, \"evo2_delta_score\": -0.0017594695091247559, \"jitter\": 0.11827868593000374}, {\"chrom\": 17, \"pos\": 41276043, \"ref\": \"C\", \"alt\": \"G\", \"score\": -1.88032705628737, \"class\": \"LOF\", \"ref_fasta_name\": \"BRCA1_ref_pos_41276043_C_class_LOF\", \"var_fasta_name\": \"BRCA1_var_pos_41276043_CtoG_class_LOF\", \"ref_log_probs\": -0.9454052448272705, \"var_log_probs\": -0.9452541470527649, \"evo2_delta_score\": 0.00015109777450561523, \"jitter\": 1.134253035553602}, {\"chrom\": 17, \"pos\": 41201186, \"ref\": \"C\", \"alt\": \"G\", \"score\": -0.0314855440941615, \"class\": \"FUNC/INT\", \"ref_fasta_name\": \"BRCA1_ref_pos_41201186_C_class_FUNC/INT\", \"var_fasta_name\": \"BRCA1_var_pos_41201186_CtoG_class_FUNC/INT\", \"ref_log_probs\": -0.9375784993171692, \"var_log_probs\": -0.9373825788497925, \"evo2_delta_score\": 0.00019592046737670898, \"jitter\": 0.11111415247466556}, {\"chrom\": 17, \"pos\": 41267762, \"ref\": \"A\", \"alt\": \"T\", \"score\": -1.95875615537077, \"class\": \"LOF\", \"ref_fasta_name\": \"BRCA1_ref_pos_41267762_A_class_LOF\", \"var_fasta_name\": \"BRCA1_var_pos_41267762_AtoT_class_LOF\", \"ref_log_probs\": -0.8595062494277954, \"var_log_probs\": -0.8637831807136536, \"evo2_delta_score\": -0.004276931285858154, \"jitter\": 0.9023822145567201}, {\"chrom\": 17, \"pos\": 41219650, \"ref\": \"C\", \"alt\": \"G\", \"score\": -0.0264298477765078, \"class\": \"FUNC/INT\", \"ref_fasta_name\": \"BRCA1_ref_pos_41219650_C_class_FUNC/INT\", \"var_fasta_name\": \"BRCA1_var_pos_41219650_CtoG_class_FUNC/INT\", \"ref_log_probs\": -1.0327410697937012, \"var_log_probs\": -1.0327781438827515, \"evo2_delta_score\": -3.707408905029297e-05, \"jitter\": -0.029410496091283177}, {\"chrom\": 17, \"pos\": 41219685, \"ref\": \"G\", \"alt\": \"T\", \"score\": 0.0375932391571365, \"class\": \"FUNC/INT\", \"ref_fasta_name\": \"BRCA1_ref_pos_41219685_G_class_FUNC/INT\", \"var_fasta_name\": \"BRCA1_var_pos_41219685_GtoT_class_FUNC/INT\", \"ref_log_probs\": -1.0280486345291138, \"var_log_probs\": -1.0282014608383179, \"evo2_delta_score\": -0.00015282630920410156, \"jitter\": 0.1480023759494634}, {\"chrom\": 17, \"pos\": 41219643, \"ref\": \"G\", \"alt\": \"T\", \"score\": -2.39408768163245, \"class\": \"LOF\", \"ref_fasta_name\": \"BRCA1_ref_pos_41219643_G_class_LOF\", \"var_fasta_name\": \"BRCA1_var_pos_41219643_GtoT_class_LOF\", \"ref_log_probs\": -1.032597541809082, \"var_log_probs\": -1.0323922634124756, \"evo2_delta_score\": 0.0002052783966064453, \"jitter\": 1.0234370697102946}, {\"chrom\": 17, \"pos\": 41222966, \"ref\": \"A\", \"alt\": \"C\", \"score\": 0.319303271390112, \"class\": \"FUNC/INT\", \"ref_fasta_name\": \"BRCA1_ref_pos_41222966_A_class_FUNC/INT\", \"var_fasta_name\": \"BRCA1_var_pos_41222966_AtoC_class_FUNC/INT\", \"ref_log_probs\": -0.9314638376235962, \"var_log_probs\": -0.9317136406898499, \"evo2_delta_score\": -0.0002498030662536621, \"jitter\": 0.11381640640938606}, {\"chrom\": 17, \"pos\": 41199686, \"ref\": \"G\", \"alt\": \"C\", \"score\": -1.37729254003792, \"class\": \"LOF\", \"ref_fasta_name\": \"BRCA1_ref_pos_41199686_G_class_LOF\", \"var_fasta_name\": \"BRCA1_var_pos_41199686_GtoC_class_LOF\", \"ref_log_probs\": -0.9581767320632935, \"var_log_probs\": -0.9580603241920471, \"evo2_delta_score\": 0.00011640787124633789, \"jitter\": 0.9584137982099974}, {\"chrom\": 17, \"pos\": 41219673, \"ref\": \"A\", \"alt\": \"C\", \"score\": 0.207102010458948, \"class\": \"FUNC/INT\", \"ref_fasta_name\": \"BRCA1_ref_pos_41219673_A_class_FUNC/INT\", \"var_fasta_name\": \"BRCA1_var_pos_41219673_AtoC_class_FUNC/INT\", \"ref_log_probs\": -1.0296052694320679, \"var_log_probs\": -1.0295231342315674, \"evo2_delta_score\": 8.213520050048828e-05, \"jitter\": -0.09254072282450955}, {\"chrom\": 17, \"pos\": 41276051, \"ref\": \"G\", \"alt\": \"A\", \"score\": -1.60156685165604, \"class\": \"LOF\", \"ref_fasta_name\": \"BRCA1_ref_pos_41276051_G_class_LOF\", \"var_fasta_name\": \"BRCA1_var_pos_41276051_GtoA_class_LOF\", \"ref_log_probs\": -0.9446318745613098, \"var_log_probs\": -0.9445666074752808, \"evo2_delta_score\": 6.526708602905273e-05, \"jitter\": 0.9622217428416222}, {\"chrom\": 17, \"pos\": 41197766, \"ref\": \"T\", \"alt\": \"C\", \"score\": -0.833876805808153, \"class\": \"FUNC/INT\", \"ref_fasta_name\": \"BRCA1_ref_pos_41197766_T_class_FUNC/INT\", \"var_fasta_name\": \"BRCA1_var_pos_41197766_TtoC_class_FUNC/INT\", \"ref_log_probs\": -1.0001728534698486, \"var_log_probs\": -1.00315260887146, \"evo2_delta_score\": -0.002979755401611328, \"jitter\": 0.1230386694092304}, {\"chrom\": 17, \"pos\": 41258494, \"ref\": \"C\", \"alt\": \"A\", \"score\": -1.5894609474847, \"class\": \"LOF\", \"ref_fasta_name\": \"BRCA1_ref_pos_41258494_C_class_LOF\", \"var_fasta_name\": \"BRCA1_var_pos_41258494_CtoA_class_LOF\", \"ref_log_probs\": -0.848147451877594, \"var_log_probs\": -0.8518048524856567, \"evo2_delta_score\": -0.003657400608062744, \"jitter\": 1.078790149972644}, {\"chrom\": 17, \"pos\": 41256955, \"ref\": \"C\", \"alt\": \"A\", \"score\": -1.9073097340339, \"class\": \"LOF\", \"ref_fasta_name\": \"BRCA1_ref_pos_41256955_C_class_LOF\", \"var_fasta_name\": \"BRCA1_var_pos_41256955_CtoA_class_LOF\", \"ref_log_probs\": -0.7953940033912659, \"var_log_probs\": -0.7964195609092712, \"evo2_delta_score\": -0.001025557518005371, \"jitter\": 1.0726357984193182}, {\"chrom\": 17, \"pos\": 41215387, \"ref\": \"A\", \"alt\": \"T\", \"score\": -1.925277452256, \"class\": \"LOF\", \"ref_fasta_name\": \"BRCA1_ref_pos_41215387_A_class_LOF\", \"var_fasta_name\": \"BRCA1_var_pos_41215387_AtoT_class_LOF\", \"ref_log_probs\": -0.8486568927764893, \"var_log_probs\": -0.8489007353782654, \"evo2_delta_score\": -0.00024384260177612305, \"jitter\": 0.9422462892910277}, {\"chrom\": 17, \"pos\": 41201205, \"ref\": \"A\", \"alt\": \"G\", \"score\": -2.35494389501738, \"class\": \"LOF\", \"ref_fasta_name\": \"BRCA1_ref_pos_41201205_A_class_LOF\", \"var_fasta_name\": \"BRCA1_var_pos_41201205_AtoG_class_LOF\", \"ref_log_probs\": -0.9390912652015686, \"var_log_probs\": -0.9405589699745178, \"evo2_delta_score\": -0.0014677047729492188, \"jitter\": 0.9664980666554963}, {\"chrom\": 17, \"pos\": 41267783, \"ref\": \"T\", \"alt\": \"G\", \"score\": 0.0984339301679147, \"class\": \"FUNC/INT\", \"ref_fasta_name\": \"BRCA1_ref_pos_41267783_T_class_FUNC/INT\", \"var_fasta_name\": \"BRCA1_var_pos_41267783_TtoG_class_FUNC/INT\", \"ref_log_probs\": -0.8621071577072144, \"var_log_probs\": -0.8624934554100037, \"evo2_delta_score\": -0.00038629770278930664, \"jitter\": -0.00030660936462972854}, {\"chrom\": 17, \"pos\": 41197751, \"ref\": \"G\", \"alt\": \"A\", \"score\": -2.23335377469493, \"class\": \"LOF\", \"ref_fasta_name\": \"BRCA1_ref_pos_41197751_G_class_LOF\", \"var_fasta_name\": \"BRCA1_var_pos_41197751_GtoA_class_LOF\", \"ref_log_probs\": -1.0002732276916504, \"var_log_probs\": -1.0031038522720337, \"evo2_delta_score\": -0.0028306245803833008, \"jitter\": 0.881230768963476}, {\"chrom\": 17, \"pos\": 41267798, \"ref\": \"T\", \"alt\": \"A\", \"score\": -2.71750253909846, \"class\": \"LOF\", \"ref_fasta_name\": \"BRCA1_ref_pos_41267798_T_class_LOF\", \"var_fasta_name\": \"BRCA1_var_pos_41267798_TtoA_class_LOF\", \"ref_log_probs\": -0.8640689253807068, \"var_log_probs\": -0.865017294883728, \"evo2_delta_score\": -0.0009483695030212402, \"jitter\": 0.8544420114906917}, {\"chrom\": 17, \"pos\": 41209140, \"ref\": \"C\", \"alt\": \"T\", \"score\": -0.0519344224261735, \"class\": \"FUNC/INT\", \"ref_fasta_name\": \"BRCA1_ref_pos_41209140_C_class_FUNC/INT\", \"var_fasta_name\": \"BRCA1_var_pos_41209140_CtoT_class_FUNC/INT\", \"ref_log_probs\": -0.757243812084198, \"var_log_probs\": -0.757249653339386, \"evo2_delta_score\": -5.841255187988281e-06, \"jitter\": 0.09320738701787964}, {\"chrom\": 17, \"pos\": 41215350, \"ref\": \"C\", \"alt\": \"A\", \"score\": -0.0311382534387421, \"class\": \"FUNC/INT\", \"ref_fasta_name\": \"BRCA1_ref_pos_41215350_C_class_FUNC/INT\", \"var_fasta_name\": \"BRCA1_var_pos_41215350_CtoA_class_FUNC/INT\", \"ref_log_probs\": -0.8488098382949829, \"var_log_probs\": -0.8488271236419678, \"evo2_delta_score\": -1.728534698486328e-05, \"jitter\": -0.037758422500644394}, {\"chrom\": 17, \"pos\": 41222995, \"ref\": \"C\", \"alt\": \"T\", \"score\": -0.283400557736232, \"class\": \"FUNC/INT\", \"ref_fasta_name\": \"BRCA1_ref_pos_41222995_C_class_FUNC/INT\", \"var_fasta_name\": \"BRCA1_var_pos_41222995_CtoT_class_FUNC/INT\", \"ref_log_probs\": -0.9326481819152832, \"var_log_probs\": -0.9325895309448242, \"evo2_delta_score\": 5.8650970458984375e-05, \"jitter\": -0.12583531823259003}, {\"chrom\": 17, \"pos\": 41276041, \"ref\": \"G\", \"alt\": \"C\", \"score\": 0.437601909411023, \"class\": \"FUNC/INT\", \"ref_fasta_name\": \"BRCA1_ref_pos_41276041_G_class_FUNC/INT\", \"var_fasta_name\": \"BRCA1_var_pos_41276041_GtoC_class_FUNC/INT\", \"ref_log_probs\": -0.944852888584137, \"var_log_probs\": -0.9449047446250916, \"evo2_delta_score\": -5.1856040954589844e-05, \"jitter\": 0.019973761140590938}, {\"chrom\": 17, \"pos\": 41215413, \"ref\": \"A\", \"alt\": \"G\", \"score\": 0.189192682018476, \"class\": \"FUNC/INT\", \"ref_fasta_name\": \"BRCA1_ref_pos_41215413_A_class_FUNC/INT\", \"var_fasta_name\": \"BRCA1_var_pos_41215413_AtoG_class_FUNC/INT\", \"ref_log_probs\": -0.8494412899017334, \"var_log_probs\": -0.8500645756721497, \"evo2_delta_score\": -0.0006232857704162598, \"jitter\": 0.07180018306439383}, {\"chrom\": 17, \"pos\": 41201212, \"ref\": \"C\", \"alt\": \"T\", \"score\": -2.2703966552698, \"class\": \"LOF\", \"ref_fasta_name\": \"BRCA1_ref_pos_41201212_C_class_LOF\", \"var_fasta_name\": \"BRCA1_var_pos_41201212_CtoT_class_LOF\", \"ref_log_probs\": -0.9390687346458435, \"var_log_probs\": -0.9409494400024414, \"evo2_delta_score\": -0.0018807053565979004, \"jitter\": 1.0894423088381766}, {\"chrom\": 17, \"pos\": 41256898, \"ref\": \"G\", \"alt\": \"C\", \"score\": -3.46654746230765, \"class\": \"LOF\", \"ref_fasta_name\": \"BRCA1_ref_pos_41256898_G_class_LOF\", \"var_fasta_name\": \"BRCA1_var_pos_41256898_GtoC_class_LOF\", \"ref_log_probs\": -0.7963106036186218, \"var_log_probs\": -0.7971141934394836, \"evo2_delta_score\": -0.0008035898208618164, \"jitter\": 0.9251444732600044}, {\"chrom\": 17, \"pos\": 41267745, \"ref\": \"G\", \"alt\": \"T\", \"score\": -2.91155523427823, \"class\": \"LOF\", \"ref_fasta_name\": \"BRCA1_ref_pos_41267745_G_class_LOF\", \"var_fasta_name\": \"BRCA1_var_pos_41267745_GtoT_class_LOF\", \"ref_log_probs\": -0.8578475117683411, \"var_log_probs\": -0.8616161942481995, \"evo2_delta_score\": -0.0037686824798583984, \"jitter\": 0.9870037176714077}, {\"chrom\": 17, \"pos\": 41215939, \"ref\": \"T\", \"alt\": \"G\", \"score\": -2.27878544497196, \"class\": \"LOF\", \"ref_fasta_name\": \"BRCA1_ref_pos_41215939_T_class_LOF\", \"var_fasta_name\": \"BRCA1_var_pos_41215939_TtoG_class_LOF\", \"ref_log_probs\": -0.8632802963256836, \"var_log_probs\": -0.8653544783592224, \"evo2_delta_score\": -0.0020741820335388184, \"jitter\": 0.9833659296643099}, {\"chrom\": 17, \"pos\": 41209090, \"ref\": \"T\", \"alt\": \"G\", \"score\": 0.0912334524479238, \"class\": \"FUNC/INT\", \"ref_fasta_name\": \"BRCA1_ref_pos_41209090_T_class_FUNC/INT\", \"var_fasta_name\": \"BRCA1_var_pos_41209090_TtoG_class_FUNC/INT\", \"ref_log_probs\": -0.7526856660842896, \"var_log_probs\": -0.7526392936706543, \"evo2_delta_score\": 4.6372413635253906e-05, \"jitter\": 0.08618787975915937}, {\"chrom\": 17, \"pos\": 41197821, \"ref\": \"T\", \"alt\": \"C\", \"score\": -1.84741578116444, \"class\": \"LOF\", \"ref_fasta_name\": \"BRCA1_ref_pos_41197821_T_class_LOF\", \"var_fasta_name\": \"BRCA1_var_pos_41197821_TtoC_class_LOF\", \"ref_log_probs\": -1.0033092498779297, \"var_log_probs\": -1.0036685466766357, \"evo2_delta_score\": -0.0003592967987060547, \"jitter\": 0.9953390498766831}, {\"chrom\": 17, \"pos\": 41199729, \"ref\": \"C\", \"alt\": \"A\", \"score\": -0.109655914989429, \"class\": \"FUNC/INT\", \"ref_fasta_name\": \"BRCA1_ref_pos_41199729_C_class_LOF\", \"var_fasta_name\": \"BRCA1_var_pos_41199729_CtoA_class_FUNC/INT\", \"ref_log_probs\": -0.9523386359214783, \"var_log_probs\": -0.9521594047546387, \"evo2_delta_score\": 0.0001792311668395996, \"jitter\": -0.03292802605294406}, {\"chrom\": 17, \"pos\": 41276084, \"ref\": \"T\", \"alt\": \"C\", \"score\": -0.308519545564318, \"class\": \"FUNC/INT\", \"ref_fasta_name\": \"BRCA1_ref_pos_41276084_T_class_FUNC/INT\", \"var_fasta_name\": \"BRCA1_var_pos_41276084_TtoC_class_FUNC/INT\", \"ref_log_probs\": -0.9403222799301147, \"var_log_probs\": -0.9404086470603943, \"evo2_delta_score\": -8.636713027954102e-05, \"jitter\": 0.10235097422812009}, {\"chrom\": 17, \"pos\": 41219709, \"ref\": \"G\", \"alt\": \"C\", \"score\": -0.447092426335367, \"class\": \"FUNC/INT\", \"ref_fasta_name\": \"BRCA1_ref_pos_41219709_G_class_FUNC/INT\", \"var_fasta_name\": \"BRCA1_var_pos_41219709_GtoC_class_FUNC/INT\", \"ref_log_probs\": -1.0248225927352905, \"var_log_probs\": -1.0249738693237305, \"evo2_delta_score\": -0.0001512765884399414, \"jitter\": 0.041899406284406526}, {\"chrom\": 17, \"pos\": 41197787, \"ref\": \"T\", \"alt\": \"G\", \"score\": 0.131130517135967, \"class\": \"FUNC/INT\", \"ref_fasta_name\": \"BRCA1_ref_pos_41197787_T_class_FUNC/INT\", \"var_fasta_name\": \"BRCA1_var_pos_41197787_TtoG_class_FUNC/INT\", \"ref_log_probs\": -1.0008268356323242, \"var_log_probs\": -1.0025337934494019, \"evo2_delta_score\": -0.0017069578170776367, \"jitter\": 0.035389277671504314}, {\"chrom\": 17, \"pos\": 41215934, \"ref\": \"A\", \"alt\": \"C\", \"score\": -2.17137513987016, \"class\": \"LOF\", \"ref_fasta_name\": \"BRCA1_ref_pos_41215934_A_class_LOF\", \"var_fasta_name\": \"BRCA1_var_pos_41215934_AtoC_class_LOF\", \"ref_log_probs\": -0.8635357022285461, \"var_log_probs\": -0.8688437342643738, \"evo2_delta_score\": -0.005308032035827637, \"jitter\": 1.1030635152478105}, {\"chrom\": 17, \"pos\": 41267750, \"ref\": \"A\", \"alt\": \"T\", \"score\": -1.16581431512051, \"class\": \"FUNC/INT\", \"ref_fasta_name\": \"BRCA1_ref_pos_41267750_A_class_FUNC/INT\", \"var_fasta_name\": \"BRCA1_var_pos_41267750_AtoT_class_FUNC/INT\", \"ref_log_probs\": -0.8589615821838379, \"var_log_probs\": -0.8620864152908325, \"evo2_delta_score\": -0.003124833106994629, \"jitter\": -0.0075965048126213075}, {\"chrom\": 17, \"pos\": 41276097, \"ref\": \"A\", \"alt\": \"G\", \"score\": 0.326952510113036, \"class\": \"FUNC/INT\", \"ref_fasta_name\": \"BRCA1_ref_pos_41276097_A_class_FUNC/INT\", \"var_fasta_name\": \"BRCA1_var_pos_41276097_AtoG_class_FUNC/INT\", \"ref_log_probs\": -0.9397090673446655, \"var_log_probs\": -0.9400607943534851, \"evo2_delta_score\": -0.0003517270088195801, \"jitter\": -0.06976179416822913}, {\"chrom\": 17, \"pos\": 41203099, \"ref\": \"G\", \"alt\": \"A\", \"score\": -0.400377067470858, \"class\": \"FUNC/INT\", \"ref_fasta_name\": \"BRCA1_ref_pos_41203099_G_class_FUNC/INT\", \"var_fasta_name\": \"BRCA1_var_pos_41203099_GtoA_class_FUNC/INT\", \"ref_log_probs\": -0.9058987498283386, \"var_log_probs\": -0.9057913422584534, \"evo2_delta_score\": 0.0001074075698852539, \"jitter\": -0.09684273836706796}, {\"chrom\": 17, \"pos\": 41215883, \"ref\": \"A\", \"alt\": \"C\", \"score\": -0.61712019803654, \"class\": \"FUNC/INT\", \"ref_fasta_name\": \"BRCA1_ref_pos_41215883_A_class_FUNC/INT\", \"var_fasta_name\": \"BRCA1_var_pos_41215883_AtoC_class_FUNC/INT\", \"ref_log_probs\": -0.863707959651947, \"var_log_probs\": -0.8652197122573853, \"evo2_delta_score\": -0.0015117526054382324, \"jitter\": 0.03698703573319654}, {\"chrom\": 17, \"pos\": 41267798, \"ref\": \"T\", \"alt\": \"G\", \"score\": -2.27716112570127, \"class\": \"LOF\", \"ref_fasta_name\": \"BRCA1_ref_pos_41267798_T_class_LOF\", \"var_fasta_name\": \"BRCA1_var_pos_41267798_TtoG_class_LOF\", \"ref_log_probs\": -0.8640689253807068, \"var_log_probs\": -0.8651297092437744, \"evo2_delta_score\": -0.001060783863067627, \"jitter\": 0.9784214000906919}, {\"chrom\": 17, \"pos\": 41258504, \"ref\": \"A\", \"alt\": \"C\", \"score\": -1.73834813947418, \"class\": \"LOF\", \"ref_fasta_name\": \"BRCA1_ref_pos_41258504_A_class_LOF\", \"var_fasta_name\": \"BRCA1_var_pos_41258504_AtoC_class_LOF\", \"ref_log_probs\": -0.8491061329841614, \"var_log_probs\": -0.8532692790031433, \"evo2_delta_score\": -0.004163146018981934, \"jitter\": 0.9453251188015313}, {\"chrom\": 17, \"pos\": 41258482, \"ref\": \"A\", \"alt\": \"C\", \"score\": -1.75484824206991, \"class\": \"LOF\", \"ref_fasta_name\": \"BRCA1_ref_pos_41258482_A_class_LOF\", \"var_fasta_name\": \"BRCA1_var_pos_41258482_AtoC_class_LOF\", \"ref_log_probs\": -0.8467590808868408, \"var_log_probs\": -0.8500788807868958, \"evo2_delta_score\": -0.0033197999000549316, \"jitter\": 0.8769952555555911}, {\"chrom\": 17, \"pos\": 41258520, \"ref\": \"C\", \"alt\": \"T\", \"score\": 0.00088168770375378, \"class\": \"FUNC/INT\", \"ref_fasta_name\": \"BRCA1_ref_pos_41258520_C_class_FUNC/INT\", \"var_fasta_name\": \"BRCA1_var_pos_41258520_CtoT_class_FUNC/INT\", \"ref_log_probs\": -0.8485037088394165, \"var_log_probs\": -0.8481279611587524, \"evo2_delta_score\": 0.0003757476806640625, \"jitter\": 0.13738673172190913}, {\"chrom\": 17, \"pos\": 41222976, \"ref\": \"A\", \"alt\": \"C\", \"score\": -1.89050127382734, \"class\": \"LOF\", \"ref_fasta_name\": \"BRCA1_ref_pos_41222976_A_class_LOF\", \"var_fasta_name\": \"BRCA1_var_pos_41222976_AtoC_class_LOF\", \"ref_log_probs\": -0.9310158491134644, \"var_log_probs\": -0.9310434460639954, \"evo2_delta_score\": -2.759695053100586e-05, \"jitter\": 0.8521285525580277}, {\"chrom\": 17, \"pos\": 41267797, \"ref\": \"C\", \"alt\": \"G\", \"score\": -1.89575518389324, \"class\": \"LOF\", \"ref_fasta_name\": \"BRCA1_ref_pos_41267797_C_class_LOF\", \"var_fasta_name\": \"BRCA1_var_pos_41267797_CtoG_class_LOF\", \"ref_log_probs\": -0.8641862869262695, \"var_log_probs\": -0.8656319975852966, \"evo2_delta_score\": -0.0014457106590270996, \"jitter\": 1.0206605928879744}, {\"chrom\": 17, \"pos\": 41219672, \"ref\": \"A\", \"alt\": \"T\", \"score\": -2.20163952001858, \"class\": \"LOF\", \"ref_fasta_name\": \"BRCA1_ref_pos_41219672_A_class_LOF\", \"var_fasta_name\": \"BRCA1_var_pos_41219672_AtoT_class_LOF\", \"ref_log_probs\": -1.0299900770187378, \"var_log_probs\": -1.0303105115890503, \"evo2_delta_score\": -0.0003204345703125, \"jitter\": 1.0688779661780234}, {\"chrom\": 17, \"pos\": 41209145, \"ref\": \"A\", \"alt\": \"T\", \"score\": -0.123011325987207, \"class\": \"FUNC/INT\", \"ref_fasta_name\": \"BRCA1_ref_pos_41209145_A_class_FUNC/INT\", \"var_fasta_name\": \"BRCA1_var_pos_41209145_AtoT_class_FUNC/INT\", \"ref_log_probs\": -0.7584342360496521, \"var_log_probs\": -0.7584912180900574, \"evo2_delta_score\": -5.698204040527344e-05, \"jitter\": -0.025060263626672963}, {\"chrom\": 17, \"pos\": 41258466, \"ref\": \"T\", \"alt\": \"C\", \"score\": 0.0295275260352785, \"class\": \"FUNC/INT\", \"ref_fasta_name\": \"BRCA1_ref_pos_41258466_T_class_FUNC/INT\", \"var_fasta_name\": \"BRCA1_var_pos_41258466_TtoC_class_FUNC/INT\", \"ref_log_probs\": -0.8475288152694702, \"var_log_probs\": -0.8474629521369934, \"evo2_delta_score\": 6.586313247680664e-05, \"jitter\": -0.012763025860431808}, {\"chrom\": 17, \"pos\": 41197774, \"ref\": \"A\", \"alt\": \"T\", \"score\": -1.72587323841784, \"class\": \"LOF\", \"ref_fasta_name\": \"BRCA1_ref_pos_41197774_A_class_LOF\", \"var_fasta_name\": \"BRCA1_var_pos_41197774_AtoT_class_LOF\", \"ref_log_probs\": -1.0004782676696777, \"var_log_probs\": -1.0043946504592896, \"evo2_delta_score\": -0.003916382789611816, \"jitter\": 1.0894068655086409}, {\"chrom\": 17, \"pos\": 41203090, \"ref\": \"G\", \"alt\": \"C\", \"score\": -0.0255105890039917, \"class\": \"FUNC/INT\", \"ref_fasta_name\": \"BRCA1_ref_pos_41203090_G_class_FUNC/INT\", \"var_fasta_name\": \"BRCA1_var_pos_41203090_GtoC_class_FUNC/INT\", \"ref_log_probs\": -0.9054762721061707, \"var_log_probs\": -0.9061254262924194, \"evo2_delta_score\": -0.0006491541862487793, \"jitter\": 0.13115276747103244}, {\"chrom\": 17, \"pos\": 41256957, \"ref\": \"T\", \"alt\": \"C\", \"score\": 0.298169169262425, \"class\": \"FUNC/INT\", \"ref_fasta_name\": \"BRCA1_ref_pos_41256957_T_class_FUNC/INT\", \"var_fasta_name\": \"BRCA1_var_pos_41256957_TtoC_class_FUNC/INT\", \"ref_log_probs\": -0.7955323457717896, \"var_log_probs\": -0.7939714193344116, \"evo2_delta_score\": 0.0015609264373779297, \"jitter\": -0.057230245169200465}, {\"chrom\": 17, \"pos\": 41199683, \"ref\": \"C\", \"alt\": \"T\", \"score\": -1.58448902074217, \"class\": \"LOF\", \"ref_fasta_name\": \"BRCA1_ref_pos_41199683_C_class_LOF\", \"var_fasta_name\": \"BRCA1_var_pos_41199683_CtoT_class_LOF\", \"ref_log_probs\": -0.9587027430534363, \"var_log_probs\": -0.9605090022087097, \"evo2_delta_score\": -0.0018062591552734375, \"jitter\": 0.8542589986714813}, {\"chrom\": 17, \"pos\": 41267817, \"ref\": \"A\", \"alt\": \"T\", \"score\": -0.3892785495764, \"class\": \"FUNC/INT\", \"ref_fasta_name\": \"BRCA1_ref_pos_41267817_A_class_FUNC/INT\", \"var_fasta_name\": \"BRCA1_var_pos_41267817_AtoT_class_FUNC/INT\", \"ref_log_probs\": -0.865614116191864, \"var_log_probs\": -0.8658824563026428, \"evo2_delta_score\": -0.0002683401107788086, \"jitter\": -0.11577365655068421}], \"data-fbfd09e7f896a36f53d071bfdfc62798\": [{\"class\": \"FUNC/INT\", \"evo2_delta_score\": -0.00038259937649681453, \"y_start\": -0.2, \"y_end\": 0.2}, {\"class\": \"LOF\", \"evo2_delta_score\": -0.0015496200039273216, \"y_start\": 0.8, \"y_end\": 1.2}]}}, {\"mode\": \"vega-lite\"});\n",
       "</script>"
      ],
      "text/plain": [
       "alt.LayerChart(...)"
      ]
     },
     "metadata": {},
     "output_type": "display_data"
    }
   ],
   "source": [
    "strip_chart = plot_strip_with_means(brca1_df, x_col=\"evo2_delta_score\", class_col=\"class\")\n",
    "strip_chart.show()"
   ]
  },
  {
   "cell_type": "markdown",
   "metadata": {},
   "source": [
    "We can also calculate the area under the receiver operating characteristic curve (AUROC) of this zero-shot prediction method. Note that the results are nearly random unless you are on one of the following configurations:\n",
    "* `--fp8` on an fp8 enabled GPU with either the 1b or 7b models. The 40b likely works as well.\n",
    "* the 7b model uniquely seems to work well without `--fp8` so if you are on an older device, the 7b model should produce\n",
    "  robust results. Change the `MODEL_SIZE` earlier in this tutorial and rerun for good results in that case.\n",
    "\n"
   ]
  },
  {
   "cell_type": "code",
   "execution_count": 12,
   "metadata": {},
   "outputs": [
    {
     "name": "stdout",
     "output_type": "stream",
     "text": [
      "Zero-shot prediction AUROC: 0.77\n"
     ]
    }
   ],
   "source": [
    "# Calculate AUROC of zero-shot predictions\n",
    "#  class 1 is LOF which is the bad thing. That means we expect this to be more negative.\n",
    "y_true = (brca1_df['class'] == 'LOF')\n",
    "auroc = roc_auc_score(y_true, -brca1_df['evo2_delta_score'])\n",
    "print(f'Zero-shot prediction AUROC: {auroc:.2}')"
   ]
  },
  {
   "cell_type": "code",
   "execution_count": 13,
   "metadata": {},
   "outputs": [
    {
     "data": {
      "text/html": [
       "\n",
       "<style>\n",
       "  #altair-viz-b81bad1db0364081964e024c65c39dad.vega-embed {\n",
       "    width: 100%;\n",
       "    display: flex;\n",
       "  }\n",
       "\n",
       "  #altair-viz-b81bad1db0364081964e024c65c39dad.vega-embed details,\n",
       "  #altair-viz-b81bad1db0364081964e024c65c39dad.vega-embed details summary {\n",
       "    position: relative;\n",
       "  }\n",
       "</style>\n",
       "<div id=\"altair-viz-b81bad1db0364081964e024c65c39dad\"></div>\n",
       "<script type=\"text/javascript\">\n",
       "  var VEGA_DEBUG = (typeof VEGA_DEBUG == \"undefined\") ? {} : VEGA_DEBUG;\n",
       "  (function(spec, embedOpt){\n",
       "    let outputDiv = document.currentScript.previousElementSibling;\n",
       "    if (outputDiv.id !== \"altair-viz-b81bad1db0364081964e024c65c39dad\") {\n",
       "      outputDiv = document.getElementById(\"altair-viz-b81bad1db0364081964e024c65c39dad\");\n",
       "    }\n",
       "\n",
       "    const paths = {\n",
       "      \"vega\": \"https://cdn.jsdelivr.net/npm/vega@5?noext\",\n",
       "      \"vega-lib\": \"https://cdn.jsdelivr.net/npm/vega-lib?noext\",\n",
       "      \"vega-lite\": \"https://cdn.jsdelivr.net/npm/vega-lite@5.20.1?noext\",\n",
       "      \"vega-embed\": \"https://cdn.jsdelivr.net/npm/vega-embed@6?noext\",\n",
       "    };\n",
       "\n",
       "    function maybeLoadScript(lib, version) {\n",
       "      var key = `${lib.replace(\"-\", \"\")}_version`;\n",
       "      return (VEGA_DEBUG[key] == version) ?\n",
       "        Promise.resolve(paths[lib]) :\n",
       "        new Promise(function(resolve, reject) {\n",
       "          var s = document.createElement('script');\n",
       "          document.getElementsByTagName(\"head\")[0].appendChild(s);\n",
       "          s.async = true;\n",
       "          s.onload = () => {\n",
       "            VEGA_DEBUG[key] = version;\n",
       "            return resolve(paths[lib]);\n",
       "          };\n",
       "          s.onerror = () => reject(`Error loading script: ${paths[lib]}`);\n",
       "          s.src = paths[lib];\n",
       "        });\n",
       "    }\n",
       "\n",
       "    function showError(err) {\n",
       "      outputDiv.innerHTML = `<div class=\"error\" style=\"color:red;\">${err}</div>`;\n",
       "      throw err;\n",
       "    }\n",
       "\n",
       "    function displayChart(vegaEmbed) {\n",
       "      vegaEmbed(outputDiv, spec, embedOpt)\n",
       "        .catch(err => showError(`Javascript Error: ${err.message}<br>This usually means there's a typo in your chart specification. See the javascript console for the full traceback.`));\n",
       "    }\n",
       "\n",
       "    if(typeof define === \"function\" && define.amd) {\n",
       "      requirejs.config({paths});\n",
       "      let deps = [\"vega-embed\"];\n",
       "      require(deps, displayChart, err => showError(`Error loading script: ${err.message}`));\n",
       "    } else {\n",
       "      maybeLoadScript(\"vega\", \"5\")\n",
       "        .then(() => maybeLoadScript(\"vega-lite\", \"5.20.1\"))\n",
       "        .then(() => maybeLoadScript(\"vega-embed\", \"6\"))\n",
       "        .catch(showError)\n",
       "        .then(() => displayChart(vegaEmbed));\n",
       "    }\n",
       "  })({\"config\": {\"view\": {\"continuousWidth\": 300, \"continuousHeight\": 300}, \"axis\": {\"grid\": true, \"gridColor\": \"#DDDDDD\"}}, \"layer\": [{\"data\": {\"name\": \"data-8dc31ef7a9fd9f1b55e9f8eb08d43cdc\"}, \"mark\": {\"type\": \"line\", \"color\": \"#76B900\", \"strokeWidth\": 3}, \"encoding\": {\"tooltip\": [{\"field\": \"False Positive Rate\", \"type\": \"quantitative\"}, {\"field\": \"True Positive Rate\", \"type\": \"quantitative\"}], \"x\": {\"axis\": {\"gridColor\": \"#DDDDDD\", \"labelColor\": \"#333333\", \"titleColor\": \"#333333\"}, \"field\": \"False Positive Rate\", \"scale\": {\"domain\": [0, 1]}, \"title\": \"False Positive Rate\", \"type\": \"quantitative\"}, \"y\": {\"axis\": {\"gridColor\": \"#DDDDDD\", \"labelColor\": \"#333333\", \"titleColor\": \"#333333\"}, \"field\": \"True Positive Rate\", \"scale\": {\"domain\": [0, 1]}, \"title\": \"True Positive Rate\", \"type\": \"quantitative\"}}}, {\"data\": {\"name\": \"data-42f50405073b2dbe8396db6b7dd2f6be\"}, \"mark\": {\"type\": \"line\", \"color\": \"gray\", \"strokeDash\": [5, 5]}, \"encoding\": {\"x\": {\"field\": \"x\", \"type\": \"quantitative\"}, \"y\": {\"field\": \"y\", \"type\": \"quantitative\"}}}], \"background\": \"#F8F8F8\", \"height\": 400, \"title\": {\"text\": \"Zeroshot ROC Curve (AUROC = 0.77)\", \"anchor\": \"start\", \"color\": \"#333333\", \"fontSize\": 16, \"subtitle\": \"Evaluating the discriminative performance of Evo 2 predictions.\", \"subtitleFontSize\": 14}, \"width\": 500, \"$schema\": \"https://vega.github.io/schema/vega-lite/v5.20.1.json\", \"datasets\": {\"data-8dc31ef7a9fd9f1b55e9f8eb08d43cdc\": [{\"False Positive Rate\": 0.0, \"True Positive Rate\": 0.0}, {\"False Positive Rate\": 0.0, \"True Positive Rate\": 0.023809523809523808}, {\"False Positive Rate\": 0.0, \"True Positive Rate\": 0.19047619047619047}, {\"False Positive Rate\": 0.047619047619047616, \"True Positive Rate\": 0.19047619047619047}, {\"False Positive Rate\": 0.047619047619047616, \"True Positive Rate\": 0.38095238095238093}, {\"False Positive Rate\": 0.09523809523809523, \"True Positive Rate\": 0.38095238095238093}, {\"False Positive Rate\": 0.09523809523809523, \"True Positive Rate\": 0.40476190476190477}, {\"False Positive Rate\": 0.16666666666666666, \"True Positive Rate\": 0.40476190476190477}, {\"False Positive Rate\": 0.16666666666666666, \"True Positive Rate\": 0.47619047619047616}, {\"False Positive Rate\": 0.19047619047619047, \"True Positive Rate\": 0.47619047619047616}, {\"False Positive Rate\": 0.19047619047619047, \"True Positive Rate\": 0.6190476190476191}, {\"False Positive Rate\": 0.23809523809523808, \"True Positive Rate\": 0.6190476190476191}, {\"False Positive Rate\": 0.23809523809523808, \"True Positive Rate\": 0.6428571428571429}, {\"False Positive Rate\": 0.2619047619047619, \"True Positive Rate\": 0.6428571428571429}, {\"False Positive Rate\": 0.2619047619047619, \"True Positive Rate\": 0.6904761904761905}, {\"False Positive Rate\": 0.2857142857142857, \"True Positive Rate\": 0.6904761904761905}, {\"False Positive Rate\": 0.2857142857142857, \"True Positive Rate\": 0.7142857142857143}, {\"False Positive Rate\": 0.30952380952380953, \"True Positive Rate\": 0.7142857142857143}, {\"False Positive Rate\": 0.30952380952380953, \"True Positive Rate\": 0.7857142857142857}, {\"False Positive Rate\": 0.3333333333333333, \"True Positive Rate\": 0.7857142857142857}, {\"False Positive Rate\": 0.3333333333333333, \"True Positive Rate\": 0.8095238095238095}, {\"False Positive Rate\": 0.38095238095238093, \"True Positive Rate\": 0.8095238095238095}, {\"False Positive Rate\": 0.38095238095238093, \"True Positive Rate\": 0.8333333333333334}, {\"False Positive Rate\": 0.5, \"True Positive Rate\": 0.8333333333333334}, {\"False Positive Rate\": 0.5, \"True Positive Rate\": 0.8571428571428571}, {\"False Positive Rate\": 0.5952380952380952, \"True Positive Rate\": 0.8571428571428571}, {\"False Positive Rate\": 0.5952380952380952, \"True Positive Rate\": 0.8809523809523809}, {\"False Positive Rate\": 0.6190476190476191, \"True Positive Rate\": 0.8809523809523809}, {\"False Positive Rate\": 0.6190476190476191, \"True Positive Rate\": 0.9047619047619048}, {\"False Positive Rate\": 0.7380952380952381, \"True Positive Rate\": 0.9047619047619048}, {\"False Positive Rate\": 0.7380952380952381, \"True Positive Rate\": 0.9285714285714286}, {\"False Positive Rate\": 0.8095238095238095, \"True Positive Rate\": 0.9285714285714286}, {\"False Positive Rate\": 0.8095238095238095, \"True Positive Rate\": 0.9523809523809523}, {\"False Positive Rate\": 0.8333333333333334, \"True Positive Rate\": 0.9523809523809523}, {\"False Positive Rate\": 0.8333333333333334, \"True Positive Rate\": 0.9761904761904762}, {\"False Positive Rate\": 0.8809523809523809, \"True Positive Rate\": 0.9761904761904762}, {\"False Positive Rate\": 0.8809523809523809, \"True Positive Rate\": 1.0}, {\"False Positive Rate\": 1.0, \"True Positive Rate\": 1.0}], \"data-42f50405073b2dbe8396db6b7dd2f6be\": [{\"x\": 0, \"y\": 0}, {\"x\": 1, \"y\": 1}]}}, {\"mode\": \"vega-lite\"});\n",
       "</script>"
      ],
      "text/plain": [
       "alt.LayerChart(...)"
      ]
     },
     "metadata": {},
     "output_type": "display_data"
    }
   ],
   "source": [
    "roc_chart = plot_roc_curve(brca1_df)\n",
    "roc_chart.show()\n"
   ]
  },
  {
   "cell_type": "markdown",
   "metadata": {},
   "source": [
    "### Full Sample Performance\n",
    "\n",
    "The above analysis may have been performed on a subset of the available data.\n",
    "\n",
    "For comparison, the table below presents the AUROC scores for different model sizes trained on the *full dataset* (100% sample fraction).\n",
    "\n",
    "| Model Size  | Dataset Sample Fraction | AUROC |\n",
    "|------------|------------------------|-------|\n",
    "| Evo 2 1B   | 100%                   | 0.76  |\n",
    "| Evo 2 7B   | 100%                   | 0.87  |\n"
   ]
  }
 ],
 "metadata": {
  "kernelspec": {
   "display_name": "Python 3",
   "language": "python",
   "name": "python3"
  },
  "language_info": {
   "codemirror_mode": {
    "name": "ipython",
    "version": 3
   },
   "file_extension": ".py",
   "mimetype": "text/x-python",
   "name": "python",
   "nbconvert_exporter": "python",
   "pygments_lexer": "ipython3",
   "version": "3.12.3"
  }
 },
 "nbformat": 4,
 "nbformat_minor": 2
}
